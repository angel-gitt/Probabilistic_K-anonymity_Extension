{
 "cells": [
  {
   "cell_type": "code",
   "execution_count": 47,
   "metadata": {},
   "outputs": [
    {
     "data": {
      "text/plain": [
       "age\n",
       "18    4600\n",
       "19    4600\n",
       "20    4600\n",
       "21    4600\n",
       "22    4600\n",
       "23    4600\n",
       "24    4600\n",
       "25    4600\n",
       "26    4600\n",
       "27    4600\n",
       "28    4600\n",
       "29    4600\n",
       "30    4600\n",
       "31    4600\n",
       "32    4600\n",
       "33    4600\n",
       "34    4600\n",
       "35    4600\n",
       "36    4600\n",
       "37    4600\n",
       "38    4600\n",
       "39    4600\n",
       "40    4600\n",
       "41    4600\n",
       "42    4600\n",
       "43    4600\n",
       "44    4600\n",
       "45    4600\n",
       "46    4600\n",
       "47    4600\n",
       "48    4600\n",
       "49    4600\n",
       "50    4600\n",
       "51    4600\n",
       "52    4600\n",
       "53    4600\n",
       "54    4600\n",
       "55    4600\n",
       "56    4600\n",
       "57    4600\n",
       "58    4600\n",
       "59    4600\n",
       "60    4600\n",
       "61    4600\n",
       "62    4600\n",
       "63    4600\n",
       "64    4600\n",
       "Name: count, dtype: int64"
      ]
     },
     "execution_count": 47,
     "metadata": {},
     "output_type": "execute_result"
    }
   ],
   "source": [
    "import pandas as pd \n",
    "import matplotlib.pyplot as plt\n",
    "import re\n",
    "import pycountry\n",
    "import openpyxl\n",
    "import random\n",
    "import scipy\n",
    "import random\n",
    "\n",
    "random.seed(42)\n",
    "\n",
    "ocde = [\n",
    "    'Australia',\n",
    "    'Austria',\n",
    "    'Belgium',\n",
    "    'Canada',\n",
    "    'Chile',\n",
    "    'Colombia',\n",
    "    'Costa Rica',\n",
    "    'Czechia',\n",
    "    'Denmark',\n",
    "    'Estonia',\n",
    "    'Finland',\n",
    "    'France',\n",
    "    'Germany',\n",
    "    'Greece',\n",
    "    'Hungary',\n",
    "    'Iceland',\n",
    "    'Ireland',\n",
    "    'Israel',\n",
    "    'Italy',\n",
    "    'Japan',\n",
    "    'South Korea',\n",
    "    'Latvia',\n",
    "    'Lithuania',\n",
    "    'Luxembourg',\n",
    "    'Mexico',\n",
    "    'Netherlands',\n",
    "    'New Zealand',\n",
    "    'Norway',\n",
    "    'Poland',\n",
    "    'Portugal',\n",
    "    'Slovakia',\n",
    "    'Slovenia',\n",
    "    'Spain',\n",
    "    'Sweden',\n",
    "    'Switzerland',\n",
    "    'Türkiye',\n",
    "    'United Kingdom',\n",
    "    'United States'\n",
    "]\n",
    "\n",
    "df = pd.read_csv('../../data/prokanon.combs4.csv')\n",
    "df.loc[(df['mau'] <= 1000), 'mau'] = df['dau']\n",
    "df['mau'] = df['mau'].apply(lambda x: x if x >= 83 else random.randint(1, 83))\n",
    "\n",
    "df.sort_values(by='mau',inplace=True)\n",
    "\n",
    "\n",
    "df['cumsum'] = df['mau'].cumsum()\n",
    "\n",
    "suma = df['mau'].sum()\n",
    "\n",
    "df['cdf'] = df['cumsum'] / suma\n",
    "\n",
    "df['age'].value_counts().sort_index()"
   ]
  },
  {
   "cell_type": "code",
   "execution_count": 48,
   "metadata": {},
   "outputs": [
    {
     "data": {
      "text/plain": [
       "1332"
      ]
     },
     "execution_count": 48,
     "metadata": {},
     "output_type": "execute_result"
    }
   ],
   "source": [
    "len(df[df['mau'] == 83])"
   ]
  },
  {
   "cell_type": "code",
   "execution_count": 49,
   "metadata": {},
   "outputs": [
    {
     "data": {
      "text/plain": [
       "0.0"
      ]
     },
     "execution_count": 49,
     "metadata": {},
     "output_type": "execute_result"
    }
   ],
   "source": [
    "len(df[df['mau'] == 0])/len(df)"
   ]
  },
  {
   "cell_type": "code",
   "execution_count": 50,
   "metadata": {},
   "outputs": [
    {
     "data": {
      "text/plain": [
       "np.float64(0.00016668716066728216)"
      ]
     },
     "execution_count": 50,
     "metadata": {},
     "output_type": "execute_result"
    }
   ],
   "source": [
    "df['mau'].value_counts().sort_index().iloc[0]*300/df['mau'].sum()"
   ]
  },
  {
   "cell_type": "code",
   "execution_count": 51,
   "metadata": {},
   "outputs": [
    {
     "data": {
      "text/plain": [
       "np.float64(0.0019178790438633391)"
      ]
     },
     "execution_count": 51,
     "metadata": {},
     "output_type": "execute_result"
    }
   ],
   "source": [
    "df_aux = df['mau'].value_counts().sort_index()[0:83]\n",
    "df_aux = df_aux * df_aux.index\n",
    "df_aux.sum()/df['mau'].sum()"
   ]
  },
  {
   "cell_type": "code",
   "execution_count": 52,
   "metadata": {},
   "outputs": [
    {
     "data": {
      "text/plain": [
       "mau\n",
       "1       1276\n",
       "2       2560\n",
       "3       3774\n",
       "4       5176\n",
       "5       5935\n",
       "       ...  \n",
       "79    101436\n",
       "80     96480\n",
       "81    103923\n",
       "82    106764\n",
       "83    110556\n",
       "Length: 83, dtype: int64"
      ]
     },
     "execution_count": 52,
     "metadata": {},
     "output_type": "execute_result"
    }
   ],
   "source": [
    "df_aux"
   ]
  },
  {
   "cell_type": "code",
   "execution_count": 53,
   "metadata": {},
   "outputs": [
    {
     "data": {
      "text/plain": [
       "np.int64(2296517611)"
      ]
     },
     "execution_count": 53,
     "metadata": {},
     "output_type": "execute_result"
    }
   ],
   "source": [
    "df['mau'].sum()"
   ]
  },
  {
   "cell_type": "code",
   "execution_count": 54,
   "metadata": {},
   "outputs": [
    {
     "data": {
      "text/plain": [
       "dau\n",
       "0          105043\n",
       "83              2\n",
       "87              1\n",
       "90              2\n",
       "91              2\n",
       "            ...  \n",
       "7093144         1\n",
       "7180640         1\n",
       "7407028         1\n",
       "8671680         1\n",
       "9281285         1\n",
       "Name: count, Length: 23466, dtype: int64"
      ]
     },
     "execution_count": 54,
     "metadata": {},
     "output_type": "execute_result"
    }
   ],
   "source": [
    "df['dau'].value_counts().sort_index()\n"
   ]
  },
  {
   "cell_type": "code",
   "execution_count": 55,
   "metadata": {},
   "outputs": [
    {
     "data": {
      "text/html": [
       "<div>\n",
       "<style scoped>\n",
       "    .dataframe tbody tr th:only-of-type {\n",
       "        vertical-align: middle;\n",
       "    }\n",
       "\n",
       "    .dataframe tbody tr th {\n",
       "        vertical-align: top;\n",
       "    }\n",
       "\n",
       "    .dataframe thead th {\n",
       "        text-align: right;\n",
       "    }\n",
       "</style>\n",
       "<table border=\"1\" class=\"dataframe\">\n",
       "  <thead>\n",
       "    <tr style=\"text-align: right;\">\n",
       "      <th></th>\n",
       "      <th>Unnamed: 0</th>\n",
       "      <th>age</th>\n",
       "      <th>country</th>\n",
       "      <th>gender</th>\n",
       "      <th>rel_status</th>\n",
       "      <th>mau</th>\n",
       "      <th>dau</th>\n",
       "      <th>percentage</th>\n",
       "      <th>cdf_true</th>\n",
       "      <th>cumsum</th>\n",
       "      <th>cdf</th>\n",
       "    </tr>\n",
       "  </thead>\n",
       "  <tbody>\n",
       "    <tr>\n",
       "      <th>143281</th>\n",
       "      <td>48232</td>\n",
       "      <td>32</td>\n",
       "      <td>SE</td>\n",
       "      <td>2</td>\n",
       "      <td>12</td>\n",
       "      <td>1</td>\n",
       "      <td>0</td>\n",
       "      <td>4.153620e-07</td>\n",
       "      <td>0.059514</td>\n",
       "      <td>1</td>\n",
       "      <td>4.354419e-10</td>\n",
       "    </tr>\n",
       "    <tr>\n",
       "      <th>141200</th>\n",
       "      <td>75927</td>\n",
       "      <td>54</td>\n",
       "      <td>LA</td>\n",
       "      <td>1</td>\n",
       "      <td>10</td>\n",
       "      <td>1</td>\n",
       "      <td>0</td>\n",
       "      <td>4.153620e-07</td>\n",
       "      <td>0.058650</td>\n",
       "      <td>2</td>\n",
       "      <td>8.708838e-10</td>\n",
       "    </tr>\n",
       "    <tr>\n",
       "      <th>62114</th>\n",
       "      <td>129522</td>\n",
       "      <td>55</td>\n",
       "      <td>MS</td>\n",
       "      <td>1</td>\n",
       "      <td>12</td>\n",
       "      <td>1</td>\n",
       "      <td>0</td>\n",
       "      <td>4.153620e-07</td>\n",
       "      <td>0.025800</td>\n",
       "      <td>3</td>\n",
       "      <td>1.306326e-09</td>\n",
       "    </tr>\n",
       "    <tr>\n",
       "      <th>140408</th>\n",
       "      <td>75132</td>\n",
       "      <td>61</td>\n",
       "      <td>KW</td>\n",
       "      <td>2</td>\n",
       "      <td>12</td>\n",
       "      <td>1</td>\n",
       "      <td>0</td>\n",
       "      <td>4.153620e-07</td>\n",
       "      <td>0.058321</td>\n",
       "      <td>4</td>\n",
       "      <td>1.741768e-09</td>\n",
       "    </tr>\n",
       "    <tr>\n",
       "      <th>3604</th>\n",
       "      <td>111508</td>\n",
       "      <td>47</td>\n",
       "      <td>CR</td>\n",
       "      <td>1</td>\n",
       "      <td>13</td>\n",
       "      <td>1</td>\n",
       "      <td>0</td>\n",
       "      <td>4.153620e-07</td>\n",
       "      <td>0.001497</td>\n",
       "      <td>5</td>\n",
       "      <td>2.177210e-09</td>\n",
       "    </tr>\n",
       "    <tr>\n",
       "      <th>...</th>\n",
       "      <td>...</td>\n",
       "      <td>...</td>\n",
       "      <td>...</td>\n",
       "      <td>...</td>\n",
       "      <td>...</td>\n",
       "      <td>...</td>\n",
       "      <td>...</td>\n",
       "      <td>...</td>\n",
       "      <td>...</td>\n",
       "      <td>...</td>\n",
       "      <td>...</td>\n",
       "    </tr>\n",
       "    <tr>\n",
       "      <th>35492</th>\n",
       "      <td>100257</td>\n",
       "      <td>48</td>\n",
       "      <td>CL</td>\n",
       "      <td>2</td>\n",
       "      <td>10</td>\n",
       "      <td>999</td>\n",
       "      <td>999</td>\n",
       "      <td>4.153620e-07</td>\n",
       "      <td>0.014742</td>\n",
       "      <td>51651276</td>\n",
       "      <td>2.249113e-02</td>\n",
       "    </tr>\n",
       "    <tr>\n",
       "      <th>35481</th>\n",
       "      <td>100047</td>\n",
       "      <td>38</td>\n",
       "      <td>CL</td>\n",
       "      <td>1</td>\n",
       "      <td>10</td>\n",
       "      <td>999</td>\n",
       "      <td>999</td>\n",
       "      <td>4.153620e-07</td>\n",
       "      <td>0.014738</td>\n",
       "      <td>51652275</td>\n",
       "      <td>2.249156e-02</td>\n",
       "    </tr>\n",
       "    <tr>\n",
       "      <th>83608</th>\n",
       "      <td>26821</td>\n",
       "      <td>43</td>\n",
       "      <td>IS</td>\n",
       "      <td>1</td>\n",
       "      <td>3</td>\n",
       "      <td>999</td>\n",
       "      <td>999</td>\n",
       "      <td>4.153620e-07</td>\n",
       "      <td>0.034728</td>\n",
       "      <td>51653274</td>\n",
       "      <td>2.249200e-02</td>\n",
       "    </tr>\n",
       "    <tr>\n",
       "      <th>133718</th>\n",
       "      <td>76836</td>\n",
       "      <td>52</td>\n",
       "      <td>LB</td>\n",
       "      <td>2</td>\n",
       "      <td>1</td>\n",
       "      <td>999</td>\n",
       "      <td>999</td>\n",
       "      <td>4.153620e-07</td>\n",
       "      <td>0.055542</td>\n",
       "      <td>51654273</td>\n",
       "      <td>2.249243e-02</td>\n",
       "    </tr>\n",
       "    <tr>\n",
       "      <th>62025</th>\n",
       "      <td>129913</td>\n",
       "      <td>27</td>\n",
       "      <td>PR</td>\n",
       "      <td>2</td>\n",
       "      <td>4</td>\n",
       "      <td>999</td>\n",
       "      <td>999</td>\n",
       "      <td>4.153620e-07</td>\n",
       "      <td>0.025763</td>\n",
       "      <td>51655272</td>\n",
       "      <td>2.249287e-02</td>\n",
       "    </tr>\n",
       "  </tbody>\n",
       "</table>\n",
       "<p>162676 rows × 11 columns</p>\n",
       "</div>"
      ],
      "text/plain": [
       "        Unnamed: 0  age country  gender  rel_status  mau  dau    percentage  \\\n",
       "143281       48232   32      SE       2          12    1    0  4.153620e-07   \n",
       "141200       75927   54      LA       1          10    1    0  4.153620e-07   \n",
       "62114       129522   55      MS       1          12    1    0  4.153620e-07   \n",
       "140408       75132   61      KW       2          12    1    0  4.153620e-07   \n",
       "3604        111508   47      CR       1          13    1    0  4.153620e-07   \n",
       "...            ...  ...     ...     ...         ...  ...  ...           ...   \n",
       "35492       100257   48      CL       2          10  999  999  4.153620e-07   \n",
       "35481       100047   38      CL       1          10  999  999  4.153620e-07   \n",
       "83608        26821   43      IS       1           3  999  999  4.153620e-07   \n",
       "133718       76836   52      LB       2           1  999  999  4.153620e-07   \n",
       "62025       129913   27      PR       2           4  999  999  4.153620e-07   \n",
       "\n",
       "        cdf_true    cumsum           cdf  \n",
       "143281  0.059514         1  4.354419e-10  \n",
       "141200  0.058650         2  8.708838e-10  \n",
       "62114   0.025800         3  1.306326e-09  \n",
       "140408  0.058321         4  1.741768e-09  \n",
       "3604    0.001497         5  2.177210e-09  \n",
       "...          ...       ...           ...  \n",
       "35492   0.014742  51651276  2.249113e-02  \n",
       "35481   0.014738  51652275  2.249156e-02  \n",
       "83608   0.034728  51653274  2.249200e-02  \n",
       "133718  0.055542  51654273  2.249243e-02  \n",
       "62025   0.025763  51655272  2.249287e-02  \n",
       "\n",
       "[162676 rows x 11 columns]"
      ]
     },
     "execution_count": 55,
     "metadata": {},
     "output_type": "execute_result"
    }
   ],
   "source": [
    "df[df['mau'] <=1000]"
   ]
  },
  {
   "cell_type": "code",
   "execution_count": 56,
   "metadata": {},
   "outputs": [
    {
     "name": "stdout",
     "output_type": "stream",
     "text": [
      "0.6457190980845361\n"
     ]
    }
   ],
   "source": [
    "print(105043/len(df[df['mau'] <=1000]))"
   ]
  },
  {
   "cell_type": "code",
   "execution_count": 57,
   "metadata": {},
   "outputs": [
    {
     "name": "stdout",
     "output_type": "stream",
     "text": [
      "0.48586031452358924\n"
     ]
    }
   ],
   "source": [
    "print(105043/len(df))"
   ]
  },
  {
   "cell_type": "code",
   "execution_count": 58,
   "metadata": {},
   "outputs": [],
   "source": [
    "\n",
    "res_geq090 = df[df['cdf'] >= 0.1]\n",
    "\n",
    "idx_min = (res_geq090['cdf'] - 0.1).abs().idxmin()\n",
    "\n",
    "results_90 = res_geq090.loc[idx_min]\n",
    "\n",
    "\n",
    "\n",
    "res_geq095 = df[df['cdf'] >= 0.05]\n",
    "\n",
    "idx_min = (res_geq095['cdf'] - 0.05).abs().idxmin()\n",
    "\n",
    "results_95 = res_geq095.loc[idx_min]\n",
    "\n",
    "\n",
    "\n",
    "res_geq099 = df[df['cdf'] >= 0.01]\n",
    "\n",
    "idx_min = (res_geq099['cdf'] - 0.01).abs().idxmin()\n",
    "\n",
    "results_99 = res_geq099.loc[idx_min]\n"
   ]
  },
  {
   "cell_type": "code",
   "execution_count": 59,
   "metadata": {},
   "outputs": [
    {
     "data": {
      "text/plain": [
       "Unnamed: 0      177932\n",
       "age                 31\n",
       "country             GN\n",
       "gender               2\n",
       "rel_status          12\n",
       "mau                989\n",
       "dau                989\n",
       "percentage         0.0\n",
       "cdf_true      0.016035\n",
       "cumsum        22965241\n",
       "cdf               0.01\n",
       "Name: 38605, dtype: object"
      ]
     },
     "execution_count": 59,
     "metadata": {},
     "output_type": "execute_result"
    }
   ],
   "source": [
    "results_99"
   ]
  },
  {
   "cell_type": "code",
   "execution_count": 60,
   "metadata": {},
   "outputs": [],
   "source": [
    "results = pd.DataFrame(columns=['K^4_90', 'K^4_95', 'K^4_99', 'RK^4_90', 'RK^4_95', 'RK^4_99'])\n",
    "results['K^4_90'] = results_90\n",
    "results['K^4_95'] = results_95\n",
    "results['K^4_99'] = results_99"
   ]
  },
  {
   "cell_type": "code",
   "execution_count": 61,
   "metadata": {},
   "outputs": [],
   "source": [
    "results = results.T[['mau']].T.reset_index(drop = True)\n",
    "results['RK^4_90'] = (results['K^4_90'] / suma) * 100\n",
    "results['RK^4_95'] = (results['K^4_95'] / suma) * 100\n",
    "results['RK^4_99'] = (results['K^4_99'] / suma) * 100"
   ]
  },
  {
   "cell_type": "code",
   "execution_count": 62,
   "metadata": {},
   "outputs": [
    {
     "data": {
      "text/html": [
       "<div>\n",
       "<style scoped>\n",
       "    .dataframe tbody tr th:only-of-type {\n",
       "        vertical-align: middle;\n",
       "    }\n",
       "\n",
       "    .dataframe tbody tr th {\n",
       "        vertical-align: top;\n",
       "    }\n",
       "\n",
       "    .dataframe thead th {\n",
       "        text-align: right;\n",
       "    }\n",
       "</style>\n",
       "<table border=\"1\" class=\"dataframe\">\n",
       "  <thead>\n",
       "    <tr style=\"text-align: right;\">\n",
       "      <th></th>\n",
       "      <th>K^4_90</th>\n",
       "      <th>K^4_95</th>\n",
       "      <th>K^4_99</th>\n",
       "      <th>RK^4_90</th>\n",
       "      <th>RK^4_95</th>\n",
       "      <th>RK^4_99</th>\n",
       "    </tr>\n",
       "  </thead>\n",
       "  <tbody>\n",
       "    <tr>\n",
       "      <th>0</th>\n",
       "      <td>15700</td>\n",
       "      <td>5500</td>\n",
       "      <td>989</td>\n",
       "      <td>0.000684</td>\n",
       "      <td>0.000239</td>\n",
       "      <td>0.000043</td>\n",
       "    </tr>\n",
       "  </tbody>\n",
       "</table>\n",
       "</div>"
      ],
      "text/plain": [
       "  K^4_90 K^4_95 K^4_99   RK^4_90   RK^4_95   RK^4_99\n",
       "0  15700   5500    989  0.000684  0.000239  0.000043"
      ]
     },
     "execution_count": 62,
     "metadata": {},
     "output_type": "execute_result"
    }
   ],
   "source": [
    "results"
   ]
  },
  {
   "cell_type": "code",
   "execution_count": 63,
   "metadata": {},
   "outputs": [],
   "source": [
    "results.to_parquet('../../data/analyzed/fb/FB_K^4_X_general.parquet')"
   ]
  },
  {
   "cell_type": "code",
   "execution_count": 64,
   "metadata": {},
   "outputs": [],
   "source": [
    "countries_ocde_a2 = pd.DataFrame(pd.DataFrame(ocde,columns=['country'])['country'].apply(lambda x: pycountry.countries.lookup(x).alpha_2))"
   ]
  },
  {
   "cell_type": "code",
   "execution_count": 65,
   "metadata": {},
   "outputs": [],
   "source": [
    "df_ocde = df[df['country'].isin(countries_ocde_a2['country'])].copy()\n",
    "df_ocde.sort_values(by='mau',inplace=True)\n",
    "\n",
    "df_ocde['cumsum'] = df_ocde['mau'].cumsum()\n",
    "\n",
    "suma_ocde = df_ocde['mau'].sum()\n",
    "\n",
    "df_ocde['cdf'] = df_ocde['cumsum'] / suma_ocde"
   ]
  },
  {
   "cell_type": "code",
   "execution_count": 66,
   "metadata": {},
   "outputs": [
    {
     "data": {
      "text/html": [
       "<div>\n",
       "<style scoped>\n",
       "    .dataframe tbody tr th:only-of-type {\n",
       "        vertical-align: middle;\n",
       "    }\n",
       "\n",
       "    .dataframe tbody tr th {\n",
       "        vertical-align: top;\n",
       "    }\n",
       "\n",
       "    .dataframe thead th {\n",
       "        text-align: right;\n",
       "    }\n",
       "</style>\n",
       "<table border=\"1\" class=\"dataframe\">\n",
       "  <thead>\n",
       "    <tr style=\"text-align: right;\">\n",
       "      <th></th>\n",
       "      <th>K^4_90</th>\n",
       "      <th>K^4_95</th>\n",
       "      <th>K^4_99</th>\n",
       "      <th>RK^4_90</th>\n",
       "      <th>RK^4_95</th>\n",
       "      <th>RK^4_99</th>\n",
       "    </tr>\n",
       "  </thead>\n",
       "  <tbody>\n",
       "    <tr>\n",
       "      <th>0</th>\n",
       "      <td>15400</td>\n",
       "      <td>7400</td>\n",
       "      <td>994</td>\n",
       "      <td>0.002358</td>\n",
       "      <td>0.001133</td>\n",
       "      <td>0.000152</td>\n",
       "    </tr>\n",
       "  </tbody>\n",
       "</table>\n",
       "</div>"
      ],
      "text/plain": [
       "  K^4_90 K^4_95 K^4_99   RK^4_90   RK^4_95   RK^4_99\n",
       "0  15400   7400    994  0.002358  0.001133  0.000152"
      ]
     },
     "execution_count": 66,
     "metadata": {},
     "output_type": "execute_result"
    }
   ],
   "source": [
    "\n",
    "res_geq090 = df_ocde[df_ocde['cdf'] >= 0.1]\n",
    "\n",
    "idx_min = (res_geq090['cdf'] - 0.1).abs().idxmin()\n",
    "\n",
    "results_90 = res_geq090.loc[idx_min]\n",
    "\n",
    "\n",
    "\n",
    "res_geq095 = df_ocde[df_ocde['cdf'] >= 0.05]\n",
    "\n",
    "idx_min = (res_geq095['cdf'] - 0.05).abs().idxmin()\n",
    "\n",
    "results_95 = res_geq095.loc[idx_min]\n",
    "\n",
    "\n",
    "\n",
    "res_geq099 = df_ocde[df_ocde['cdf'] >= 0.01]\n",
    "\n",
    "idx_min = (res_geq099['cdf'] - 0.01).abs().idxmin()\n",
    "\n",
    "results_99 = res_geq099.loc[idx_min]\n",
    "\n",
    "results = pd.DataFrame(columns=['K^4_90', 'K^4_95', 'K^4_99', 'RK^4_90', 'RK^4_95', 'RK^4_99'])\n",
    "results['K^4_90'] = results_90\n",
    "results['K^4_95'] = results_95\n",
    "results['K^4_99'] = results_99\n",
    "\n",
    "results = results.T[['mau']].T.reset_index(drop = True)\n",
    "results['RK^4_90'] = (results['K^4_90'] / suma_ocde) * 100\n",
    "results['RK^4_95'] = (results['K^4_95'] / suma_ocde) * 100\n",
    "results['RK^4_99'] = (results['K^4_99'] / suma_ocde) * 100\n",
    "\n",
    "results.to_parquet('../../data/analyzed/fb/FB_K^4_X_general_ocde.parquet')\n",
    "results\n"
   ]
  },
  {
   "cell_type": "code",
   "execution_count": 67,
   "metadata": {},
   "outputs": [
    {
     "data": {
      "text/plain": [
       "np.int64(653208889)"
      ]
     },
     "execution_count": 67,
     "metadata": {},
     "output_type": "execute_result"
    }
   ],
   "source": [
    "df_ocde['mau'].sum()"
   ]
  },
  {
   "cell_type": "code",
   "execution_count": 68,
   "metadata": {},
   "outputs": [
    {
     "data": {
      "text/plain": [
       "Series([], Name: country, dtype: object)"
      ]
     },
     "execution_count": 68,
     "metadata": {},
     "output_type": "execute_result"
    }
   ],
   "source": [
    "df_ocde[df_ocde['mau']==0]['country']"
   ]
  },
  {
   "cell_type": "code",
   "execution_count": 69,
   "metadata": {},
   "outputs": [
    {
     "data": {
      "text/plain": [
       "38"
      ]
     },
     "execution_count": 69,
     "metadata": {},
     "output_type": "execute_result"
    }
   ],
   "source": [
    "len(ocde)"
   ]
  }
 ],
 "metadata": {
  "kernelspec": {
   "display_name": ".venv",
   "language": "python",
   "name": "python3"
  },
  "language_info": {
   "codemirror_mode": {
    "name": "ipython",
    "version": 3
   },
   "file_extension": ".py",
   "mimetype": "text/x-python",
   "name": "python",
   "nbconvert_exporter": "python",
   "pygments_lexer": "ipython3",
   "version": "3.12.3"
  }
 },
 "nbformat": 4,
 "nbformat_minor": 2
}
