{
 "cells": [
  {
   "cell_type": "code",
   "execution_count": 1,
   "metadata": {},
   "outputs": [
    {
     "data": {
      "text/html": [
       "<div>\n",
       "<style scoped>\n",
       "    .dataframe tbody tr th:only-of-type {\n",
       "        vertical-align: middle;\n",
       "    }\n",
       "\n",
       "    .dataframe tbody tr th {\n",
       "        vertical-align: top;\n",
       "    }\n",
       "\n",
       "    .dataframe thead th {\n",
       "        text-align: right;\n",
       "    }\n",
       "</style>\n",
       "<table border=\"1\" class=\"dataframe\">\n",
       "  <thead>\n",
       "    <tr style=\"text-align: right;\">\n",
       "      <th></th>\n",
       "      <th>_id</th>\n",
       "      <th>age_range</th>\n",
       "      <th>seniority</th>\n",
       "      <th>country</th>\n",
       "      <th>gender</th>\n",
       "      <th>count</th>\n",
       "      <th>cumsum</th>\n",
       "      <th>cdf</th>\n",
       "    </tr>\n",
       "  </thead>\n",
       "  <tbody>\n",
       "    <tr>\n",
       "      <th>5842</th>\n",
       "      <td>{'$oid': '65b0f45c17f3c67cf286ceaa'}</td>\n",
       "      <td>(25,34)</td>\n",
       "      <td>1</td>\n",
       "      <td>Kyrgyzstan</td>\n",
       "      <td>MALE</td>\n",
       "      <td>1</td>\n",
       "      <td>1</td>\n",
       "      <td>2.107659e-09</td>\n",
       "    </tr>\n",
       "    <tr>\n",
       "      <th>16085</th>\n",
       "      <td>{'$oid': '65b77b9e60aac84946a7936a'}</td>\n",
       "      <td>(35,54)</td>\n",
       "      <td>1</td>\n",
       "      <td>Zimbabwe</td>\n",
       "      <td>FEMALE</td>\n",
       "      <td>1</td>\n",
       "      <td>2</td>\n",
       "      <td>4.215317e-09</td>\n",
       "    </tr>\n",
       "    <tr>\n",
       "      <th>13267</th>\n",
       "      <td>{'$oid': '65b7766060aac84946a76a7c'}</td>\n",
       "      <td>(25,34)</td>\n",
       "      <td>9</td>\n",
       "      <td>Ethiopia</td>\n",
       "      <td>FEMALE</td>\n",
       "      <td>1</td>\n",
       "      <td>3</td>\n",
       "      <td>6.322976e-09</td>\n",
       "    </tr>\n",
       "    <tr>\n",
       "      <th>1765</th>\n",
       "      <td>{'$oid': '65b0eab517f3c67cf2869285'}</td>\n",
       "      <td>(35,54)</td>\n",
       "      <td>1</td>\n",
       "      <td>Gibraltar</td>\n",
       "      <td>FEMALE</td>\n",
       "      <td>1</td>\n",
       "      <td>4</td>\n",
       "      <td>8.430634e-09</td>\n",
       "    </tr>\n",
       "    <tr>\n",
       "      <th>419</th>\n",
       "      <td>{'$oid': '65b0e75a17f3c67cf2866f38'}</td>\n",
       "      <td>(25,34)</td>\n",
       "      <td>3</td>\n",
       "      <td>Saint Pierre and Miquelon</td>\n",
       "      <td>FEMALE</td>\n",
       "      <td>1</td>\n",
       "      <td>5</td>\n",
       "      <td>1.053829e-08</td>\n",
       "    </tr>\n",
       "    <tr>\n",
       "      <th>...</th>\n",
       "      <td>...</td>\n",
       "      <td>...</td>\n",
       "      <td>...</td>\n",
       "      <td>...</td>\n",
       "      <td>...</td>\n",
       "      <td>...</td>\n",
       "      <td>...</td>\n",
       "      <td>...</td>\n",
       "    </tr>\n",
       "    <tr>\n",
       "      <th>187</th>\n",
       "      <td>{'$oid': '65b0e6c717f3c67cf2866927'}</td>\n",
       "      <td>(25,34)</td>\n",
       "      <td>4</td>\n",
       "      <td>United States</td>\n",
       "      <td>FEMALE</td>\n",
       "      <td>7200000</td>\n",
       "      <td>431360152</td>\n",
       "      <td>9.091599e-01</td>\n",
       "    </tr>\n",
       "    <tr>\n",
       "      <th>181</th>\n",
       "      <td>{'$oid': '65b0e6c317f3c67cf2866900'}</td>\n",
       "      <td>(35,54)</td>\n",
       "      <td>3</td>\n",
       "      <td>United States</td>\n",
       "      <td>FEMALE</td>\n",
       "      <td>7600000</td>\n",
       "      <td>438960152</td>\n",
       "      <td>9.251781e-01</td>\n",
       "    </tr>\n",
       "    <tr>\n",
       "      <th>5298</th>\n",
       "      <td>{'$oid': '65b0f30417f3c67cf286c777'}</td>\n",
       "      <td>(25,34)</td>\n",
       "      <td>3</td>\n",
       "      <td>India</td>\n",
       "      <td>MALE</td>\n",
       "      <td>8500000</td>\n",
       "      <td>447460152</td>\n",
       "      <td>9.430932e-01</td>\n",
       "    </tr>\n",
       "    <tr>\n",
       "      <th>178</th>\n",
       "      <td>{'$oid': '65b0e6c117f3c67cf28668ea'}</td>\n",
       "      <td>(25,34)</td>\n",
       "      <td>3</td>\n",
       "      <td>United States</td>\n",
       "      <td>MALE</td>\n",
       "      <td>13000000</td>\n",
       "      <td>460460152</td>\n",
       "      <td>9.704928e-01</td>\n",
       "    </tr>\n",
       "    <tr>\n",
       "      <th>179</th>\n",
       "      <td>{'$oid': '65b0e6c117f3c67cf28668f2'}</td>\n",
       "      <td>(25,34)</td>\n",
       "      <td>3</td>\n",
       "      <td>United States</td>\n",
       "      <td>FEMALE</td>\n",
       "      <td>14000000</td>\n",
       "      <td>474460152</td>\n",
       "      <td>1.000000e+00</td>\n",
       "    </tr>\n",
       "  </tbody>\n",
       "</table>\n",
       "<p>16160 rows × 8 columns</p>\n",
       "</div>"
      ],
      "text/plain": [
       "                                        _id age_range  seniority  \\\n",
       "5842   {'$oid': '65b0f45c17f3c67cf286ceaa'}   (25,34)          1   \n",
       "16085  {'$oid': '65b77b9e60aac84946a7936a'}   (35,54)          1   \n",
       "13267  {'$oid': '65b7766060aac84946a76a7c'}   (25,34)          9   \n",
       "1765   {'$oid': '65b0eab517f3c67cf2869285'}   (35,54)          1   \n",
       "419    {'$oid': '65b0e75a17f3c67cf2866f38'}   (25,34)          3   \n",
       "...                                     ...       ...        ...   \n",
       "187    {'$oid': '65b0e6c717f3c67cf2866927'}   (25,34)          4   \n",
       "181    {'$oid': '65b0e6c317f3c67cf2866900'}   (35,54)          3   \n",
       "5298   {'$oid': '65b0f30417f3c67cf286c777'}   (25,34)          3   \n",
       "178    {'$oid': '65b0e6c117f3c67cf28668ea'}   (25,34)          3   \n",
       "179    {'$oid': '65b0e6c117f3c67cf28668f2'}   (25,34)          3   \n",
       "\n",
       "                         country  gender     count     cumsum           cdf  \n",
       "5842                  Kyrgyzstan    MALE         1          1  2.107659e-09  \n",
       "16085                   Zimbabwe  FEMALE         1          2  4.215317e-09  \n",
       "13267                   Ethiopia  FEMALE         1          3  6.322976e-09  \n",
       "1765                   Gibraltar  FEMALE         1          4  8.430634e-09  \n",
       "419    Saint Pierre and Miquelon  FEMALE         1          5  1.053829e-08  \n",
       "...                          ...     ...       ...        ...           ...  \n",
       "187                United States  FEMALE   7200000  431360152  9.091599e-01  \n",
       "181                United States  FEMALE   7600000  438960152  9.251781e-01  \n",
       "5298                       India    MALE   8500000  447460152  9.430932e-01  \n",
       "178                United States    MALE  13000000  460460152  9.704928e-01  \n",
       "179                United States  FEMALE  14000000  474460152  1.000000e+00  \n",
       "\n",
       "[16160 rows x 8 columns]"
      ]
     },
     "execution_count": 1,
     "metadata": {},
     "output_type": "execute_result"
    }
   ],
   "source": [
    "import pandas as pd \n",
    "import matplotlib.pyplot as plt\n",
    "import re\n",
    "import pycountry\n",
    "import openpyxl\n",
    "import random\n",
    "\n",
    "random.seed(42)\n",
    "\n",
    "ocde = [\n",
    "    'Australia',\n",
    "    'Austria',\n",
    "    'Belgium',\n",
    "    'Canada',\n",
    "    'Chile',\n",
    "    'Colombia',\n",
    "    'Costa Rica',\n",
    "    'Czechia',\n",
    "    'Denmark',\n",
    "    'Estonia',\n",
    "    'Finland',\n",
    "    'France',\n",
    "    'Germany',\n",
    "    'Greece',\n",
    "    'Hungary',\n",
    "    'Iceland',\n",
    "    'Ireland',\n",
    "    'Israel',\n",
    "    'Italy',\n",
    "    'Japan',\n",
    "    'South Korea',\n",
    "    'Latvia',\n",
    "    'Lithuania',\n",
    "    'Luxembourg',\n",
    "    'Mexico',\n",
    "    'Netherlands',\n",
    "    'New Zealand',\n",
    "    'Norway',\n",
    "    'Poland',\n",
    "    'Portugal',\n",
    "    'Slovakia',\n",
    "    'Slovenia',\n",
    "    'Spain',\n",
    "    'Sweden',\n",
    "    'Switzerland',\n",
    "    'Türkiye',\n",
    "    'United Kingdom',\n",
    "    'United States'\n",
    "]\n",
    "\n",
    "df = pd.read_json('../../data/ld/prokanon.ld_combs4.json')\n",
    "\n",
    "df['count'] = df['count'].apply(lambda x: x if x >=300 else random.randint(1, 300))\n",
    "df.sort_values(by='count',inplace=True)\n",
    "\n",
    "\n",
    "df['cumsum'] = df['count'].cumsum()\n",
    "\n",
    "suma = df['count'].sum()\n",
    "\n",
    "df['cdf'] = df['cumsum'] / suma\n",
    "\n",
    "df\n"
   ]
  },
  {
   "cell_type": "code",
   "execution_count": 2,
   "metadata": {},
   "outputs": [
    {
     "data": {
      "text/plain": [
       "0.0"
      ]
     },
     "execution_count": 2,
     "metadata": {},
     "output_type": "execute_result"
    }
   ],
   "source": [
    "len(df[df['count'] == 0])/len(df)"
   ]
  },
  {
   "cell_type": "code",
   "execution_count": 3,
   "metadata": {},
   "outputs": [
    {
     "data": {
      "text/plain": [
       "np.int64(1034212)"
      ]
     },
     "execution_count": 3,
     "metadata": {},
     "output_type": "execute_result"
    }
   ],
   "source": [
    "df_aux = df['count'].value_counts().sort_index()[0:300]\n",
    "df_aux = df_aux * df_aux.index\n",
    "df_aux.sum()"
   ]
  },
  {
   "cell_type": "code",
   "execution_count": 4,
   "metadata": {},
   "outputs": [
    {
     "data": {
      "text/plain": [
       "np.int64(474460152)"
      ]
     },
     "execution_count": 4,
     "metadata": {},
     "output_type": "execute_result"
    }
   ],
   "source": [
    "df['count'].sum()"
   ]
  },
  {
   "cell_type": "code",
   "execution_count": 5,
   "metadata": {},
   "outputs": [
    {
     "data": {
      "text/plain": [
       "np.float64(0.0021797657730379854)"
      ]
     },
     "execution_count": 5,
     "metadata": {},
     "output_type": "execute_result"
    }
   ],
   "source": [
    "df_aux.sum()/df['count'].sum()"
   ]
  },
  {
   "cell_type": "code",
   "execution_count": 6,
   "metadata": {},
   "outputs": [
    {
     "data": {
      "text/plain": [
       "np.int64(22)"
      ]
     },
     "execution_count": 6,
     "metadata": {},
     "output_type": "execute_result"
    }
   ],
   "source": [
    "df_aux = df['count'].value_counts().sort_index()[0:1]\n",
    "df_aux = df_aux * df_aux.index\n",
    "df_aux.sum()"
   ]
  },
  {
   "cell_type": "code",
   "execution_count": 7,
   "metadata": {},
   "outputs": [
    {
     "data": {
      "text/plain": [
       "np.float64(4.636848828560844e-08)"
      ]
     },
     "execution_count": 7,
     "metadata": {},
     "output_type": "execute_result"
    }
   ],
   "source": [
    "df_aux.sum()/df['count'].sum()"
   ]
  },
  {
   "cell_type": "code",
   "execution_count": 8,
   "metadata": {},
   "outputs": [],
   "source": [
    "\n",
    "res_geq090 = df[df['cdf'] >= 0.1]\n",
    "\n",
    "idx_min = (res_geq090['cdf'] - 0.1).abs().idxmin()\n",
    "\n",
    "results_90 = res_geq090.loc[idx_min]\n",
    "\n",
    "\n",
    "\n",
    "res_geq095 = df[df['cdf'] >= 0.05]\n",
    "\n",
    "idx_min = (res_geq095['cdf'] - 0.05).abs().idxmin()\n",
    "\n",
    "results_95 = res_geq095.loc[idx_min]\n",
    "\n",
    "\n",
    "\n",
    "res_geq099 = df[df['cdf'] >= 0.01]\n",
    "\n",
    "idx_min = (res_geq099['cdf'] - 0.01).abs().idxmin()\n",
    "\n",
    "results_99 = res_geq099.loc[idx_min]\n"
   ]
  },
  {
   "cell_type": "code",
   "execution_count": 9,
   "metadata": {},
   "outputs": [],
   "source": [
    "results = pd.DataFrame(columns=['K^4_90', 'K^4_95', 'K^4_99', 'RK^4_90', 'RK^4_95', 'RK^4_99'])\n",
    "results['K^4_90'] = results_90\n",
    "results['K^4_95'] = results_95\n",
    "results['K^4_99'] = results_99"
   ]
  },
  {
   "cell_type": "code",
   "execution_count": 10,
   "metadata": {},
   "outputs": [],
   "source": [
    "results = results.T[['count']].T.reset_index(drop = True)\n",
    "results['RK^4_90'] = (results['K^4_90'] / suma) * 100\n",
    "results['RK^4_95'] = (results['K^4_95'] / suma) * 100\n",
    "results['RK^4_99'] = (results['K^4_99'] / suma) * 100"
   ]
  },
  {
   "cell_type": "code",
   "execution_count": 11,
   "metadata": {},
   "outputs": [],
   "source": [
    "results.to_parquet('../../data/analyzed/ld/LD_K^4_X_general.parquet')"
   ]
  },
  {
   "cell_type": "code",
   "execution_count": 12,
   "metadata": {},
   "outputs": [],
   "source": [
    "countries_ocde_a2 = pd.DataFrame(pd.DataFrame(ocde,columns=['country'])['country'].apply(lambda x: pycountry.countries.lookup(x).alpha_2))"
   ]
  },
  {
   "cell_type": "code",
   "execution_count": 13,
   "metadata": {},
   "outputs": [],
   "source": [
    "df['country'] = df['country'].str.strip()  \n",
    "df['country'] = df['country'].replace({'Turkey': 'Türkiye'})"
   ]
  },
  {
   "cell_type": "code",
   "execution_count": 14,
   "metadata": {},
   "outputs": [],
   "source": [
    "df_ocde = df[df['country'].apply(lambda x: pycountry.countries.lookup(x).alpha_2).isin(countries_ocde_a2['country'])].copy()\n",
    "df_ocde.sort_values(by='count',inplace=True)\n",
    "\n",
    "df_ocde['cumsum'] = df_ocde['count'].cumsum()\n",
    "\n",
    "suma = df_ocde['count'].sum()\n",
    "\n",
    "df_ocde['cdf'] = df_ocde['cumsum'] / suma"
   ]
  },
  {
   "cell_type": "code",
   "execution_count": 15,
   "metadata": {},
   "outputs": [
    {
     "data": {
      "text/html": [
       "<div>\n",
       "<style scoped>\n",
       "    .dataframe tbody tr th:only-of-type {\n",
       "        vertical-align: middle;\n",
       "    }\n",
       "\n",
       "    .dataframe tbody tr th {\n",
       "        vertical-align: top;\n",
       "    }\n",
       "\n",
       "    .dataframe thead th {\n",
       "        text-align: right;\n",
       "    }\n",
       "</style>\n",
       "<table border=\"1\" class=\"dataframe\">\n",
       "  <thead>\n",
       "    <tr style=\"text-align: right;\">\n",
       "      <th></th>\n",
       "      <th>K^4_90</th>\n",
       "      <th>K^4_95</th>\n",
       "      <th>K^4_99</th>\n",
       "      <th>RK^4_90</th>\n",
       "      <th>RK^4_95</th>\n",
       "      <th>RK^4_99</th>\n",
       "    </tr>\n",
       "  </thead>\n",
       "  <tbody>\n",
       "    <tr>\n",
       "      <th>0</th>\n",
       "      <td>72000</td>\n",
       "      <td>31000</td>\n",
       "      <td>7000</td>\n",
       "      <td>0.024538</td>\n",
       "      <td>0.010565</td>\n",
       "      <td>0.002386</td>\n",
       "    </tr>\n",
       "  </tbody>\n",
       "</table>\n",
       "</div>"
      ],
      "text/plain": [
       "  K^4_90 K^4_95 K^4_99   RK^4_90   RK^4_95   RK^4_99\n",
       "0  72000  31000   7000  0.024538  0.010565  0.002386"
      ]
     },
     "execution_count": 15,
     "metadata": {},
     "output_type": "execute_result"
    }
   ],
   "source": [
    "\n",
    "res_geq090 = df_ocde[df_ocde['cdf'] >= 0.1]\n",
    "\n",
    "idx_min = (res_geq090['cdf'] - 0.1).abs().idxmin()\n",
    "\n",
    "results_90 = res_geq090.loc[idx_min]\n",
    "\n",
    "\n",
    "\n",
    "res_geq095 = df_ocde[df_ocde['cdf'] >= 0.05]\n",
    "\n",
    "idx_min = (res_geq095['cdf'] - 0.05).abs().idxmin()\n",
    "\n",
    "results_95 = res_geq095.loc[idx_min]\n",
    "\n",
    "\n",
    "\n",
    "res_geq099 = df_ocde[df_ocde['cdf'] >= 0.01]\n",
    "\n",
    "idx_min = (res_geq099['cdf'] - 0.01).abs().idxmin()\n",
    "\n",
    "results_99 = res_geq099.loc[idx_min]\n",
    "\n",
    "results = pd.DataFrame(columns=['K^4_90', 'K^4_95', 'K^4_99', 'RK^4_90', 'RK^4_95', 'RK^4_99'])\n",
    "results['K^4_90'] = results_90\n",
    "results['K^4_95'] = results_95\n",
    "results['K^4_99'] = results_99\n",
    "\n",
    "results = results.T[['count']].T.reset_index(drop = True)\n",
    "results['RK^4_90'] = (results['K^4_90'] / suma) * 100\n",
    "results['RK^4_95'] = (results['K^4_95'] / suma) * 100\n",
    "results['RK^4_99'] = (results['K^4_99'] / suma) * 100\n",
    "\n",
    "results.to_parquet('../../data/analyzed/ld/LD_K^4_X_general_ocde.parquet')\n",
    "results"
   ]
  },
  {
   "cell_type": "code",
   "execution_count": 16,
   "metadata": {},
   "outputs": [
    {
     "data": {
      "text/plain": [
       "np.int64(0)"
      ]
     },
     "execution_count": 16,
     "metadata": {},
     "output_type": "execute_result"
    }
   ],
   "source": [
    "df_ocde[df_ocde['count']==0]['country'].drop_duplicates().count()"
   ]
  },
  {
   "cell_type": "code",
   "execution_count": 17,
   "metadata": {},
   "outputs": [
    {
     "data": {
      "text/plain": [
       "38"
      ]
     },
     "execution_count": 17,
     "metadata": {},
     "output_type": "execute_result"
    }
   ],
   "source": [
    "len(ocde)"
   ]
  }
 ],
 "metadata": {
  "kernelspec": {
   "display_name": ".venv",
   "language": "python",
   "name": "python3"
  },
  "language_info": {
   "codemirror_mode": {
    "name": "ipython",
    "version": 3
   },
   "file_extension": ".py",
   "mimetype": "text/x-python",
   "name": "python",
   "nbconvert_exporter": "python",
   "pygments_lexer": "ipython3",
   "version": "3.12.3"
  }
 },
 "nbformat": 4,
 "nbformat_minor": 2
}
