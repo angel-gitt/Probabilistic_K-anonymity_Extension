{
 "cells": [
  {
   "cell_type": "code",
   "execution_count": 1,
   "metadata": {},
   "outputs": [
    {
     "data": {
      "text/plain": [
       "age\n",
       "[18, 24]    2300\n",
       "[55, 64]    2300\n",
       "[25, 34]    2300\n",
       "[35, 54]    2300\n",
       "Name: count, dtype: int64"
      ]
     },
     "execution_count": 1,
     "metadata": {},
     "output_type": "execute_result"
    }
   ],
   "source": [
    "import pandas as pd \n",
    "import matplotlib.pyplot as plt\n",
    "import re\n",
    "import pycountry\n",
    "import openpyxl\n",
    "import random\n",
    "\n",
    "random.seed(42)\n",
    "\n",
    "ocde = [\n",
    "    'Australia',\n",
    "    'Austria',\n",
    "    'Belgium',\n",
    "    'Canada',\n",
    "    'Chile',\n",
    "    'Colombia',\n",
    "    'Costa Rica',\n",
    "    'Czechia',\n",
    "    'Denmark',\n",
    "    'Estonia',\n",
    "    'Finland',\n",
    "    'France',\n",
    "    'Germany',\n",
    "    'Greece',\n",
    "    'Hungary',\n",
    "    'Iceland',\n",
    "    'Ireland',\n",
    "    'Israel',\n",
    "    'Italy',\n",
    "    'Japan',\n",
    "    'South Korea',\n",
    "    'Latvia',\n",
    "    'Lithuania',\n",
    "    'Luxembourg',\n",
    "    'Mexico',\n",
    "    'Netherlands',\n",
    "    'New Zealand',\n",
    "    'Norway',\n",
    "    'Poland',\n",
    "    'Portugal',\n",
    "    'Slovakia',\n",
    "    'Slovenia',\n",
    "    'Spain',\n",
    "    'Sweden',\n",
    "    'Switzerland',\n",
    "    'Türkiye',\n",
    "    'United Kingdom',\n",
    "    'United States'\n",
    "]\n",
    "\n",
    "df = pd.read_json('../../data/prokanon.mt_combs4_newrel_newage.json')\n",
    "df.loc[(df['mau'] == 1000), 'mau'] = df['dau']\n",
    "df['mau'] = df['mau'].apply(lambda x: x if x >= 109 else random.randint(1, 109))\n",
    "df.sort_values(by='mau',inplace=True)\n",
    "\n",
    "\n",
    "df['cumsum'] = df['mau'].cumsum()\n",
    "\n",
    "suma = df['mau'].sum()\n",
    "\n",
    "df['cdf'] = df['cumsum'] / suma\n",
    "\n",
    "\n",
    "df['age'].value_counts()"
   ]
  },
  {
   "cell_type": "code",
   "execution_count": 2,
   "metadata": {},
   "outputs": [
    {
     "data": {
      "text/html": [
       "<div>\n",
       "<style scoped>\n",
       "    .dataframe tbody tr th:only-of-type {\n",
       "        vertical-align: middle;\n",
       "    }\n",
       "\n",
       "    .dataframe tbody tr th {\n",
       "        vertical-align: top;\n",
       "    }\n",
       "\n",
       "    .dataframe thead th {\n",
       "        text-align: right;\n",
       "    }\n",
       "</style>\n",
       "<table border=\"1\" class=\"dataframe\">\n",
       "  <thead>\n",
       "    <tr style=\"text-align: right;\">\n",
       "      <th></th>\n",
       "      <th>K^4_90</th>\n",
       "      <th>K^4_95</th>\n",
       "      <th>K^4_99</th>\n",
       "      <th>RK^4_90</th>\n",
       "      <th>RK^4_95</th>\n",
       "      <th>RK^4_99</th>\n",
       "    </tr>\n",
       "  </thead>\n",
       "  <tbody>\n",
       "    <tr>\n",
       "      <th>0</th>\n",
       "      <td>256500</td>\n",
       "      <td>117900</td>\n",
       "      <td>22000</td>\n",
       "      <td>0.00011</td>\n",
       "      <td>0.00005</td>\n",
       "      <td>0.000009</td>\n",
       "    </tr>\n",
       "  </tbody>\n",
       "</table>\n",
       "</div>"
      ],
      "text/plain": [
       "   K^4_90  K^4_95 K^4_99  RK^4_90  RK^4_95   RK^4_99\n",
       "0  256500  117900  22000  0.00011  0.00005  0.000009"
      ]
     },
     "execution_count": 2,
     "metadata": {},
     "output_type": "execute_result"
    }
   ],
   "source": [
    "res_geq090 = df[df['cdf'] >= 0.1]\n",
    "\n",
    "idx_min = (res_geq090['cdf'] - 0.1).abs().idxmin()\n",
    "\n",
    "results_90 = res_geq090.loc[idx_min]\n",
    "\n",
    "\n",
    "\n",
    "res_geq095 = df[df['cdf'] >= 0.05]\n",
    "\n",
    "idx_min = (res_geq095['cdf'] - 0.05).abs().idxmin()\n",
    "\n",
    "results_95 = res_geq095.loc[idx_min]\n",
    "\n",
    "\n",
    "\n",
    "res_geq099 = df[df['cdf'] >= 0.01]\n",
    "\n",
    "idx_min = (res_geq099['cdf'] - 0.01).abs().idxmin()\n",
    "\n",
    "results_99 = res_geq099.loc[idx_min]\n",
    "\n",
    "\n",
    "results = pd.DataFrame(columns=['K^4_90', 'K^4_95', 'K^4_99', 'RK^4_90', 'RK^4_95', 'RK^4_99'])\n",
    "results['K^4_90'] = results_90\n",
    "results['K^4_95'] = results_95\n",
    "results['K^4_99'] = results_99\n",
    "\n",
    "results = results.T[['mau']].T.reset_index(drop = True)\n",
    "results['RK^4_90'] = results['K^4_90'] / suma\n",
    "results['RK^4_95'] = results['K^4_95'] / suma\n",
    "results['RK^4_99'] = results['K^4_99'] / suma\n",
    "\n",
    "results.to_parquet('../../data/analyzed/fb/FB_newrel_newage_K^4_X_general.parquet')\n",
    "results\n"
   ]
  },
  {
   "cell_type": "code",
   "execution_count": 3,
   "metadata": {},
   "outputs": [
    {
     "data": {
      "text/plain": [
       "np.float64(2.33643104)"
      ]
     },
     "execution_count": 3,
     "metadata": {},
     "output_type": "execute_result"
    }
   ],
   "source": [
    "suma/1000000000"
   ]
  },
  {
   "cell_type": "code",
   "execution_count": 4,
   "metadata": {},
   "outputs": [
    {
     "data": {
      "text/plain": [
       "mau\n",
       "1           10\n",
       "2            7\n",
       "3            5\n",
       "4           13\n",
       "5            6\n",
       "            ..\n",
       "27800000     1\n",
       "31100000     1\n",
       "65800000     1\n",
       "78900000     1\n",
       "90900000     1\n",
       "Name: count, Length: 2417, dtype: int64"
      ]
     },
     "execution_count": 4,
     "metadata": {},
     "output_type": "execute_result"
    }
   ],
   "source": [
    "df['mau'].value_counts().sort_index()"
   ]
  },
  {
   "cell_type": "code",
   "execution_count": 5,
   "metadata": {},
   "outputs": [
    {
     "data": {
      "text/html": [
       "<div>\n",
       "<style scoped>\n",
       "    .dataframe tbody tr th:only-of-type {\n",
       "        vertical-align: middle;\n",
       "    }\n",
       "\n",
       "    .dataframe tbody tr th {\n",
       "        vertical-align: top;\n",
       "    }\n",
       "\n",
       "    .dataframe thead th {\n",
       "        text-align: right;\n",
       "    }\n",
       "</style>\n",
       "<table border=\"1\" class=\"dataframe\">\n",
       "  <thead>\n",
       "    <tr style=\"text-align: right;\">\n",
       "      <th></th>\n",
       "      <th>K^4_90</th>\n",
       "      <th>K^4_95</th>\n",
       "      <th>K^4_99</th>\n",
       "      <th>RK^4_90</th>\n",
       "      <th>RK^4_95</th>\n",
       "      <th>RK^4_99</th>\n",
       "    </tr>\n",
       "  </thead>\n",
       "  <tbody>\n",
       "    <tr>\n",
       "      <th>0</th>\n",
       "      <td>238300</td>\n",
       "      <td>124800</td>\n",
       "      <td>36800</td>\n",
       "      <td>0.00037</td>\n",
       "      <td>0.000194</td>\n",
       "      <td>0.000057</td>\n",
       "    </tr>\n",
       "  </tbody>\n",
       "</table>\n",
       "</div>"
      ],
      "text/plain": [
       "   K^4_90  K^4_95 K^4_99  RK^4_90   RK^4_95   RK^4_99\n",
       "0  238300  124800  36800  0.00037  0.000194  0.000057"
      ]
     },
     "execution_count": 5,
     "metadata": {},
     "output_type": "execute_result"
    }
   ],
   "source": [
    "countries_ocde_a2 = pd.DataFrame(pd.DataFrame(ocde,columns=['country'])['country'].apply(lambda x: pycountry.countries.lookup(x).alpha_2))\n",
    "df_ocde = df[df['country'].isin(countries_ocde_a2['country'])].copy()\n",
    "df_ocde.sort_values(by='mau',inplace=True)\n",
    "\n",
    "df_ocde['cumsum'] = df_ocde['mau'].cumsum()\n",
    "\n",
    "suma = df_ocde['mau'].sum()\n",
    "\n",
    "df_ocde['cdf'] = df_ocde['cumsum'] / suma\n",
    "\n",
    "res_geq090 = df_ocde[df_ocde['cdf'] >= 0.1]\n",
    "\n",
    "idx_min = (res_geq090['cdf'] - 0.1).abs().idxmin()\n",
    "\n",
    "results_90 = res_geq090.loc[idx_min]\n",
    "\n",
    "\n",
    "\n",
    "res_geq095 = df_ocde[df_ocde['cdf'] >= 0.05]\n",
    "\n",
    "idx_min = (res_geq095['cdf'] - 0.05).abs().idxmin()\n",
    "\n",
    "results_95 = res_geq095.loc[idx_min]\n",
    "\n",
    "\n",
    "\n",
    "res_geq099 = df_ocde[df_ocde['cdf'] >= 0.01]\n",
    "\n",
    "idx_min = (res_geq099['cdf'] - 0.01).abs().idxmin()\n",
    "\n",
    "results_99 = res_geq099.loc[idx_min]\n",
    "\n",
    "results = pd.DataFrame(columns=['K^4_90', 'K^4_95', 'K^4_99', 'RK^4_90', 'RK^4_95', 'RK^4_99'])\n",
    "results['K^4_90'] = results_90\n",
    "results['K^4_95'] = results_95\n",
    "results['K^4_99'] = results_99\n",
    "\n",
    "results = results.T[['mau']].T.reset_index(drop = True)\n",
    "results['RK^4_90'] = results['K^4_90'] / suma\n",
    "results['RK^4_95'] = results['K^4_95'] / suma\n",
    "results['RK^4_99'] = results['K^4_99'] / suma\n",
    "\n",
    "results.to_parquet('../../data/analyzed/fb/FB_newrel_newage_K^4_X_general_ocde.parquet')\n",
    "results"
   ]
  }
 ],
 "metadata": {
  "kernelspec": {
   "display_name": ".venv",
   "language": "python",
   "name": "python3"
  },
  "language_info": {
   "codemirror_mode": {
    "name": "ipython",
    "version": 3
   },
   "file_extension": ".py",
   "mimetype": "text/x-python",
   "name": "python",
   "nbconvert_exporter": "python",
   "pygments_lexer": "ipython3",
   "version": "3.12.3"
  }
 },
 "nbformat": 4,
 "nbformat_minor": 2
}
