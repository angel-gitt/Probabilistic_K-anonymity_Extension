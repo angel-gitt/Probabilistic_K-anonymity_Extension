{
 "cells": [
  {
   "cell_type": "code",
   "execution_count": 22,
   "metadata": {},
   "outputs": [
    {
     "data": {
      "text/html": [
       "<div>\n",
       "<style scoped>\n",
       "    .dataframe tbody tr th:only-of-type {\n",
       "        vertical-align: middle;\n",
       "    }\n",
       "\n",
       "    .dataframe tbody tr th {\n",
       "        vertical-align: top;\n",
       "    }\n",
       "\n",
       "    .dataframe thead th {\n",
       "        text-align: right;\n",
       "    }\n",
       "</style>\n",
       "<table border=\"1\" class=\"dataframe\">\n",
       "  <thead>\n",
       "    <tr style=\"text-align: right;\">\n",
       "      <th></th>\n",
       "      <th>_id</th>\n",
       "      <th>country</th>\n",
       "      <th>platform</th>\n",
       "      <th>age_range</th>\n",
       "      <th>gender</th>\n",
       "      <th>count_max</th>\n",
       "      <th>count_min</th>\n",
       "      <th>cumsum</th>\n",
       "      <th>cdf</th>\n",
       "    </tr>\n",
       "  </thead>\n",
       "  <tbody>\n",
       "    <tr>\n",
       "      <th>9839</th>\n",
       "      <td>{'$oid': '65b7cbaa60aac84946a82f1b'}</td>\n",
       "      <td>GQ</td>\n",
       "      <td>4</td>\n",
       "      <td>AGE_25_TO_49</td>\n",
       "      <td>FEMALE</td>\n",
       "      <td>1</td>\n",
       "      <td>0</td>\n",
       "      <td>1</td>\n",
       "      <td>1.641113e-09</td>\n",
       "    </tr>\n",
       "    <tr>\n",
       "      <th>8567</th>\n",
       "      <td>{'$oid': '65b7934c60aac84946a7c1ac'}</td>\n",
       "      <td>PN</td>\n",
       "      <td>4</td>\n",
       "      <td>AGE_OVER_50</td>\n",
       "      <td>FEMALE</td>\n",
       "      <td>1</td>\n",
       "      <td>0</td>\n",
       "      <td>2</td>\n",
       "      <td>3.282226e-09</td>\n",
       "    </tr>\n",
       "    <tr>\n",
       "      <th>10242</th>\n",
       "      <td>{'$oid': '65ba09a760c90558368dee2b'}</td>\n",
       "      <td>MG</td>\n",
       "      <td>3</td>\n",
       "      <td>AGE_OVER_50</td>\n",
       "      <td>MALE</td>\n",
       "      <td>1</td>\n",
       "      <td>0</td>\n",
       "      <td>3</td>\n",
       "      <td>4.923339e-09</td>\n",
       "    </tr>\n",
       "    <tr>\n",
       "      <th>7225</th>\n",
       "      <td>{'$oid': '65b774bf60aac84946a7574c'}</td>\n",
       "      <td>MS</td>\n",
       "      <td>1</td>\n",
       "      <td>AGE_13_TO_24</td>\n",
       "      <td>MALE</td>\n",
       "      <td>2</td>\n",
       "      <td>0</td>\n",
       "      <td>5</td>\n",
       "      <td>8.205566e-09</td>\n",
       "    </tr>\n",
       "    <tr>\n",
       "      <th>7837</th>\n",
       "      <td>{'$oid': '65b7761960aac84946a76746'}</td>\n",
       "      <td>FM</td>\n",
       "      <td>1</td>\n",
       "      <td>AGE_OVER_50</td>\n",
       "      <td>FEMALE</td>\n",
       "      <td>2</td>\n",
       "      <td>0</td>\n",
       "      <td>7</td>\n",
       "      <td>1.148779e-08</td>\n",
       "    </tr>\n",
       "    <tr>\n",
       "      <th>...</th>\n",
       "      <td>...</td>\n",
       "      <td>...</td>\n",
       "      <td>...</td>\n",
       "      <td>...</td>\n",
       "      <td>...</td>\n",
       "      <td>...</td>\n",
       "      <td>...</td>\n",
       "      <td>...</td>\n",
       "      <td>...</td>\n",
       "    </tr>\n",
       "    <tr>\n",
       "      <th>148</th>\n",
       "      <td>{'$oid': '65b0e65c17f3c67cf28664c5'}</td>\n",
       "      <td>US</td>\n",
       "      <td>0</td>\n",
       "      <td>AGE_25_TO_49</td>\n",
       "      <td>FEMALE</td>\n",
       "      <td>11462880</td>\n",
       "      <td>10371177</td>\n",
       "      <td>545384867</td>\n",
       "      <td>8.950383e-01</td>\n",
       "    </tr>\n",
       "    <tr>\n",
       "      <th>112</th>\n",
       "      <td>{'$oid': '65b0e64817f3c67cf2866409'}</td>\n",
       "      <td>US</td>\n",
       "      <td>0</td>\n",
       "      <td>AGE_13_TO_24</td>\n",
       "      <td>MALE</td>\n",
       "      <td>13389263</td>\n",
       "      <td>12114095</td>\n",
       "      <td>558774130</td>\n",
       "      <td>9.170116e-01</td>\n",
       "    </tr>\n",
       "    <tr>\n",
       "      <th>3980</th>\n",
       "      <td>{'$oid': '65b76d7f60aac84946a70326'}</td>\n",
       "      <td>JP</td>\n",
       "      <td>0</td>\n",
       "      <td>AGE_13_TO_24</td>\n",
       "      <td>FEMALE</td>\n",
       "      <td>13479745</td>\n",
       "      <td>12195960</td>\n",
       "      <td>572253875</td>\n",
       "      <td>9.391334e-01</td>\n",
       "    </tr>\n",
       "    <tr>\n",
       "      <th>4012</th>\n",
       "      <td>{'$oid': '65b76d9260aac84946a703f5'}</td>\n",
       "      <td>JP</td>\n",
       "      <td>0</td>\n",
       "      <td>AGE_25_TO_49</td>\n",
       "      <td>FEMALE</td>\n",
       "      <td>15391739</td>\n",
       "      <td>13925859</td>\n",
       "      <td>587645614</td>\n",
       "      <td>9.643929e-01</td>\n",
       "    </tr>\n",
       "    <tr>\n",
       "      <th>144</th>\n",
       "      <td>{'$oid': '65b0e65a17f3c67cf28664ab'}</td>\n",
       "      <td>US</td>\n",
       "      <td>0</td>\n",
       "      <td>AGE_25_TO_49</td>\n",
       "      <td>MALE</td>\n",
       "      <td>21696894</td>\n",
       "      <td>19630523</td>\n",
       "      <td>609342508</td>\n",
       "      <td>1.000000e+00</td>\n",
       "    </tr>\n",
       "  </tbody>\n",
       "</table>\n",
       "<p>5112 rows × 9 columns</p>\n",
       "</div>"
      ],
      "text/plain": [
       "                                        _id country  platform     age_range  \\\n",
       "9839   {'$oid': '65b7cbaa60aac84946a82f1b'}      GQ         4  AGE_25_TO_49   \n",
       "8567   {'$oid': '65b7934c60aac84946a7c1ac'}      PN         4   AGE_OVER_50   \n",
       "10242  {'$oid': '65ba09a760c90558368dee2b'}      MG         3   AGE_OVER_50   \n",
       "7225   {'$oid': '65b774bf60aac84946a7574c'}      MS         1  AGE_13_TO_24   \n",
       "7837   {'$oid': '65b7761960aac84946a76746'}      FM         1   AGE_OVER_50   \n",
       "...                                     ...     ...       ...           ...   \n",
       "148    {'$oid': '65b0e65c17f3c67cf28664c5'}      US         0  AGE_25_TO_49   \n",
       "112    {'$oid': '65b0e64817f3c67cf2866409'}      US         0  AGE_13_TO_24   \n",
       "3980   {'$oid': '65b76d7f60aac84946a70326'}      JP         0  AGE_13_TO_24   \n",
       "4012   {'$oid': '65b76d9260aac84946a703f5'}      JP         0  AGE_25_TO_49   \n",
       "144    {'$oid': '65b0e65a17f3c67cf28664ab'}      US         0  AGE_25_TO_49   \n",
       "\n",
       "       gender  count_max  count_min     cumsum           cdf  \n",
       "9839   FEMALE          1          0          1  1.641113e-09  \n",
       "8567   FEMALE          1          0          2  3.282226e-09  \n",
       "10242    MALE          1          0          3  4.923339e-09  \n",
       "7225     MALE          2          0          5  8.205566e-09  \n",
       "7837   FEMALE          2          0          7  1.148779e-08  \n",
       "...       ...        ...        ...        ...           ...  \n",
       "148    FEMALE   11462880   10371177  545384867  8.950383e-01  \n",
       "112      MALE   13389263   12114095  558774130  9.170116e-01  \n",
       "3980   FEMALE   13479745   12195960  572253875  9.391334e-01  \n",
       "4012   FEMALE   15391739   13925859  587645614  9.643929e-01  \n",
       "144      MALE   21696894   19630523  609342508  1.000000e+00  \n",
       "\n",
       "[5112 rows x 9 columns]"
      ]
     },
     "execution_count": 22,
     "metadata": {},
     "output_type": "execute_result"
    }
   ],
   "source": [
    "import pandas as pd \n",
    "import matplotlib.pyplot as plt\n",
    "import re\n",
    "import pycountry\n",
    "import openpyxl\n",
    "import random\n",
    "\n",
    "random.seed(42)\n",
    "\n",
    "ocde = [\n",
    "    'Australia',\n",
    "    'Austria',\n",
    "    'Belgium',\n",
    "    'Canada',\n",
    "    'Chile',\n",
    "    'Colombia',\n",
    "    'Costa Rica',\n",
    "    'Czechia',\n",
    "    'Denmark',\n",
    "    'Estonia',\n",
    "    'Finland',\n",
    "    'France',\n",
    "    'Germany',\n",
    "    'Greece',\n",
    "    'Hungary',\n",
    "    'Iceland',\n",
    "    'Ireland',\n",
    "    'Israel',\n",
    "    'Italy',\n",
    "    'Japan',\n",
    "    'South Korea',\n",
    "    'Latvia',\n",
    "    'Lithuania',\n",
    "    'Luxembourg',\n",
    "    'Mexico',\n",
    "    'Netherlands',\n",
    "    'New Zealand',\n",
    "    'Norway',\n",
    "    'Poland',\n",
    "    'Portugal',\n",
    "    'Slovakia',\n",
    "    'Slovenia',\n",
    "    'Spain',\n",
    "    'Sweden',\n",
    "    'Switzerland',\n",
    "    'Türkiye',\n",
    "    'United Kingdom',\n",
    "    'United States'\n",
    "]\n",
    "\n",
    "df = pd.read_json('../../data/tw/prokanon.tw_combs4.json')\n",
    "df.loc[df['count_max'] <= 1000, 'count_max'] = df['count_min']\n",
    "\n",
    "df['count_max'] = df['count_max'].apply(lambda x: x if x >= 1062 else random.randint(1, 1062))\n",
    "\n",
    "df = df.loc[~(df['age_range'] == 'AGE_18_TO_24')]\n",
    "df = df.loc[~(df['age_range'] == 'AGE_18_TO_34')]\n",
    "df = df.loc[~(df['age_range'] == 'AGE_21_TO_34')]\n",
    "df = df.loc[~(df['age_range'] == 'AGE_35_TO_49')]\n",
    "\n",
    "df.sort_values(by='count_max',inplace=True)\n",
    "\n",
    "\n",
    "df['cumsum'] = df['count_max'].cumsum()\n",
    "\n",
    "suma = df['count_max'].sum()\n",
    "\n",
    "df['cdf'] = df['cumsum'] / suma\n",
    "\n",
    "df"
   ]
  },
  {
   "cell_type": "code",
   "execution_count": 23,
   "metadata": {},
   "outputs": [
    {
     "data": {
      "text/plain": [
       "count_max  count_min\n",
       "848        0            9\n",
       "323        0            9\n",
       "821        0            8\n",
       "687        0            8\n",
       "854        0            7\n",
       "                       ..\n",
       "502        0            1\n",
       "810        0            1\n",
       "105        0            1\n",
       "501        0            1\n",
       "368        0            1\n",
       "Name: count, Length: 918, dtype: int64"
      ]
     },
     "execution_count": 23,
     "metadata": {},
     "output_type": "execute_result"
    }
   ],
   "source": [
    "df[df['count_max']<=1000][['count_max','count_min']].value_counts()"
   ]
  },
  {
   "cell_type": "code",
   "execution_count": 24,
   "metadata": {},
   "outputs": [
    {
     "data": {
      "text/html": [
       "<div>\n",
       "<style scoped>\n",
       "    .dataframe tbody tr th:only-of-type {\n",
       "        vertical-align: middle;\n",
       "    }\n",
       "\n",
       "    .dataframe tbody tr th {\n",
       "        vertical-align: top;\n",
       "    }\n",
       "\n",
       "    .dataframe thead th {\n",
       "        text-align: right;\n",
       "    }\n",
       "</style>\n",
       "<table border=\"1\" class=\"dataframe\">\n",
       "  <thead>\n",
       "    <tr style=\"text-align: right;\">\n",
       "      <th></th>\n",
       "      <th>_id</th>\n",
       "      <th>country</th>\n",
       "      <th>platform</th>\n",
       "      <th>age_range</th>\n",
       "      <th>gender</th>\n",
       "      <th>count_max</th>\n",
       "      <th>count_min</th>\n",
       "      <th>cumsum</th>\n",
       "      <th>cdf</th>\n",
       "    </tr>\n",
       "  </thead>\n",
       "  <tbody>\n",
       "    <tr>\n",
       "      <th>6159</th>\n",
       "      <td>{'$oid': '65b7726160aac84946a73bcc'}</td>\n",
       "      <td>CR</td>\n",
       "      <td>4</td>\n",
       "      <td>AGE_OVER_50</td>\n",
       "      <td>FEMALE</td>\n",
       "      <td>1062</td>\n",
       "      <td>961</td>\n",
       "      <td>1344655</td>\n",
       "      <td>0.002207</td>\n",
       "    </tr>\n",
       "    <tr>\n",
       "      <th>3583</th>\n",
       "      <td>{'$oid': '65b76c9a60aac84946a6f900'}</td>\n",
       "      <td>GE</td>\n",
       "      <td>4</td>\n",
       "      <td>AGE_OVER_50</td>\n",
       "      <td>FEMALE</td>\n",
       "      <td>1062</td>\n",
       "      <td>961</td>\n",
       "      <td>1345717</td>\n",
       "      <td>0.002208</td>\n",
       "    </tr>\n",
       "  </tbody>\n",
       "</table>\n",
       "</div>"
      ],
      "text/plain": [
       "                                       _id country  platform    age_range  \\\n",
       "6159  {'$oid': '65b7726160aac84946a73bcc'}      CR         4  AGE_OVER_50   \n",
       "3583  {'$oid': '65b76c9a60aac84946a6f900'}      GE         4  AGE_OVER_50   \n",
       "\n",
       "      gender  count_max  count_min   cumsum       cdf  \n",
       "6159  FEMALE       1062        961  1344655  0.002207  \n",
       "3583  FEMALE       1062        961  1345717  0.002208  "
      ]
     },
     "execution_count": 24,
     "metadata": {},
     "output_type": "execute_result"
    }
   ],
   "source": [
    "df[df['count_min']==961]"
   ]
  },
  {
   "cell_type": "code",
   "execution_count": 25,
   "metadata": {},
   "outputs": [
    {
     "data": {
      "text/plain": [
       "count_max\n",
       "1           3\n",
       "2           3\n",
       "3           3\n",
       "4           3\n",
       "6           4\n",
       "           ..\n",
       "11462880    1\n",
       "13389263    1\n",
       "13479745    1\n",
       "15391739    1\n",
       "21696894    1\n",
       "Name: count, Length: 2963, dtype: int64"
      ]
     },
     "execution_count": 25,
     "metadata": {},
     "output_type": "execute_result"
    }
   ],
   "source": [
    "df['count_max'].value_counts().sort_index()"
   ]
  },
  {
   "cell_type": "code",
   "execution_count": 26,
   "metadata": {},
   "outputs": [
    {
     "data": {
      "text/plain": [
       "0.0"
      ]
     },
     "execution_count": 26,
     "metadata": {},
     "output_type": "execute_result"
    }
   ],
   "source": [
    "len(df[df['count_max'] == 0])/len(df)"
   ]
  },
  {
   "cell_type": "code",
   "execution_count": 27,
   "metadata": {},
   "outputs": [
    {
     "data": {
      "text/plain": [
       "np.int64(1345717)"
      ]
     },
     "execution_count": 27,
     "metadata": {},
     "output_type": "execute_result"
    }
   ],
   "source": [
    "df_aux = df['count_max'].value_counts().sort_index()[0:973]\n",
    "df_aux = df_aux * df_aux.index\n",
    "df_aux.sum()"
   ]
  },
  {
   "cell_type": "code",
   "execution_count": 28,
   "metadata": {},
   "outputs": [
    {
     "data": {
      "text/plain": [
       "np.int64(609342508)"
      ]
     },
     "execution_count": 28,
     "metadata": {},
     "output_type": "execute_result"
    }
   ],
   "source": [
    "df['count_max'].sum()"
   ]
  },
  {
   "cell_type": "code",
   "execution_count": 29,
   "metadata": {},
   "outputs": [
    {
     "data": {
      "text/plain": [
       "np.float64(0.0022084738588432763)"
      ]
     },
     "execution_count": 29,
     "metadata": {},
     "output_type": "execute_result"
    }
   ],
   "source": [
    "df_aux.sum()/df['count_max'].sum()"
   ]
  },
  {
   "cell_type": "code",
   "execution_count": 30,
   "metadata": {},
   "outputs": [
    {
     "data": {
      "text/plain": [
       "np.int64(3)"
      ]
     },
     "execution_count": 30,
     "metadata": {},
     "output_type": "execute_result"
    }
   ],
   "source": [
    "df_aux = df['count_max'].value_counts().sort_index()[0:1]\n",
    "df_aux = df_aux * df_aux.index\n",
    "df_aux.sum()"
   ]
  },
  {
   "cell_type": "code",
   "execution_count": 31,
   "metadata": {},
   "outputs": [
    {
     "data": {
      "text/plain": [
       "np.float64(4.923339436545596e-09)"
      ]
     },
     "execution_count": 31,
     "metadata": {},
     "output_type": "execute_result"
    }
   ],
   "source": [
    "df_aux.sum()/df['count_max'].sum()"
   ]
  },
  {
   "cell_type": "code",
   "execution_count": 32,
   "metadata": {},
   "outputs": [
    {
     "data": {
      "text/plain": [
       "count_max\n",
       "1           3\n",
       "2           3\n",
       "3           3\n",
       "4           3\n",
       "6           4\n",
       "           ..\n",
       "11462880    1\n",
       "13389263    1\n",
       "13479745    1\n",
       "15391739    1\n",
       "21696894    1\n",
       "Name: count, Length: 2963, dtype: int64"
      ]
     },
     "execution_count": 32,
     "metadata": {},
     "output_type": "execute_result"
    }
   ],
   "source": [
    "df['count_max'].value_counts().sort_index()"
   ]
  },
  {
   "cell_type": "code",
   "execution_count": 33,
   "metadata": {},
   "outputs": [],
   "source": [
    "\n",
    "res_geq090 = df[df['cdf'] >= 0.1]\n",
    "\n",
    "idx_min = (res_geq090['cdf'] - 0.1).abs().idxmin()\n",
    "\n",
    "results_90 = res_geq090.loc[idx_min]\n",
    "\n",
    "\n",
    "\n",
    "res_geq095 = df[df['cdf'] >= 0.05]\n",
    "\n",
    "idx_min = (res_geq095['cdf'] - 0.05).abs().idxmin()\n",
    "\n",
    "results_95 = res_geq095.loc[idx_min]\n",
    "\n",
    "\n",
    "\n",
    "res_geq099 = df[df['cdf'] >= 0.01]\n",
    "\n",
    "idx_min = (res_geq099['cdf'] - 0.01).abs().idxmin()\n",
    "\n",
    "results_99 = res_geq099.loc[idx_min]"
   ]
  },
  {
   "cell_type": "code",
   "execution_count": 34,
   "metadata": {},
   "outputs": [],
   "source": [
    "results = pd.DataFrame(columns=['K^4_90', 'K^4_95', 'K^4_99', 'RK^4_90', 'RK^4_95', 'RK^4_99'])\n",
    "results['K^4_90'] = results_90\n",
    "results['K^4_95'] = results_95\n",
    "results['K^4_99'] = results_99"
   ]
  },
  {
   "cell_type": "code",
   "execution_count": 35,
   "metadata": {},
   "outputs": [],
   "source": [
    "results = results.T[['count_max']].T.reset_index(drop = True)\n",
    "results['RK^4_90'] = (results['K^4_90'] / suma) * 100\n",
    "results['RK^4_95'] = (results['K^4_95'] / suma) * 100\n",
    "results['RK^4_99'] = (results['K^4_99'] / suma) * 100"
   ]
  },
  {
   "cell_type": "code",
   "execution_count": 36,
   "metadata": {},
   "outputs": [],
   "source": [
    "results.to_parquet('../../data/analyzed/tw/TW_K^4_X_general.parquet')"
   ]
  },
  {
   "cell_type": "code",
   "execution_count": 37,
   "metadata": {},
   "outputs": [
    {
     "name": "stdout",
     "output_type": "stream",
     "text": [
      "\\begin{tabular}{llllll}\n",
      "\\toprule\n",
      "K^4_90 & K^4_95 & K^4_99 & RK^4_90 & RK^4_95 & RK^4_99 \\\\\n",
      "\\midrule\n",
      "182195 & 74041 & 11722 & 2.99e-02 & 1.22e-02 & 1.92e-03 \\\\\n",
      "\\bottomrule\n",
      "\\end{tabular}\n",
      "\n"
     ]
    }
   ],
   "source": [
    "latex_table=results.to_latex(index=False,float_format=\"%.2e\",escape=False)\n",
    "print(latex_table)"
   ]
  },
  {
   "cell_type": "code",
   "execution_count": 38,
   "metadata": {},
   "outputs": [],
   "source": [
    "countries_ocde_a2 = pd.DataFrame(pd.DataFrame(ocde,columns=['country'])['country'].apply(lambda x: pycountry.countries.lookup(x).alpha_2))"
   ]
  },
  {
   "cell_type": "code",
   "execution_count": 39,
   "metadata": {},
   "outputs": [],
   "source": [
    "df_ocde = df[df['country'].apply(lambda x: pycountry.countries.lookup(x).alpha_2).isin(countries_ocde_a2['country'])].copy()\n",
    "df_ocde.sort_values(by='count_max',inplace=True)\n",
    "\n",
    "df_ocde['cumsum'] = df_ocde['count_max'].cumsum()\n",
    "\n",
    "suma = df_ocde['count_max'].sum()\n",
    "\n",
    "df_ocde['cdf'] = df_ocde['cumsum'] / suma"
   ]
  },
  {
   "cell_type": "code",
   "execution_count": 40,
   "metadata": {},
   "outputs": [
    {
     "data": {
      "text/html": [
       "<div>\n",
       "<style scoped>\n",
       "    .dataframe tbody tr th:only-of-type {\n",
       "        vertical-align: middle;\n",
       "    }\n",
       "\n",
       "    .dataframe tbody tr th {\n",
       "        vertical-align: top;\n",
       "    }\n",
       "\n",
       "    .dataframe thead th {\n",
       "        text-align: right;\n",
       "    }\n",
       "</style>\n",
       "<table border=\"1\" class=\"dataframe\">\n",
       "  <thead>\n",
       "    <tr style=\"text-align: right;\">\n",
       "      <th></th>\n",
       "      <th>K^4_90</th>\n",
       "      <th>K^4_95</th>\n",
       "      <th>K^4_99</th>\n",
       "      <th>RK^4_90</th>\n",
       "      <th>RK^4_95</th>\n",
       "      <th>RK^4_99</th>\n",
       "    </tr>\n",
       "  </thead>\n",
       "  <tbody>\n",
       "    <tr>\n",
       "      <th>0</th>\n",
       "      <td>182195</td>\n",
       "      <td>74041</td>\n",
       "      <td>11722</td>\n",
       "      <td>0.048392</td>\n",
       "      <td>0.019666</td>\n",
       "      <td>0.003113</td>\n",
       "    </tr>\n",
       "  </tbody>\n",
       "</table>\n",
       "</div>"
      ],
      "text/plain": [
       "   K^4_90 K^4_95 K^4_99   RK^4_90   RK^4_95   RK^4_99\n",
       "0  182195  74041  11722  0.048392  0.019666  0.003113"
      ]
     },
     "execution_count": 40,
     "metadata": {},
     "output_type": "execute_result"
    }
   ],
   "source": [
    "\n",
    "res_geq090 = df[df['cdf'] >= 0.1]\n",
    "\n",
    "idx_min = (res_geq090['cdf'] - 0.1).abs().idxmin()\n",
    "\n",
    "results_90 = res_geq090.loc[idx_min]\n",
    "\n",
    "\n",
    "\n",
    "res_geq095 = df[df['cdf'] >= 0.05]\n",
    "\n",
    "idx_min = (res_geq095['cdf'] - 0.05).abs().idxmin()\n",
    "\n",
    "results_95 = res_geq095.loc[idx_min]\n",
    "\n",
    "\n",
    "\n",
    "res_geq099 = df[df['cdf'] >= 0.01]\n",
    "\n",
    "idx_min = (res_geq099['cdf'] - 0.01).abs().idxmin()\n",
    "\n",
    "results_99 = res_geq099.loc[idx_min]\n",
    "\n",
    "results = pd.DataFrame(columns=['K^4_90', 'K^4_95', 'K^4_99', 'RK^4_90', 'RK^4_95', 'RK^4_99'])\n",
    "results['K^4_90'] = results_90\n",
    "results['K^4_95'] = results_95\n",
    "results['K^4_99'] = results_99\n",
    "\n",
    "results = results.T[['count_max']].T.reset_index(drop = True)\n",
    "results['RK^4_90'] = (results['K^4_90'] / suma) * 100\n",
    "results['RK^4_95'] = (results['K^4_95'] / suma) * 100\n",
    "results['RK^4_99'] = (results['K^4_99'] / suma) * 100\n",
    "\n",
    "results.to_parquet('../../data/analyzed/tw/TW_K^4_X_general_ocde.parquet')\n",
    "results"
   ]
  },
  {
   "cell_type": "code",
   "execution_count": 41,
   "metadata": {},
   "outputs": [
    {
     "data": {
      "text/plain": [
       "np.int64(0)"
      ]
     },
     "execution_count": 41,
     "metadata": {},
     "output_type": "execute_result"
    }
   ],
   "source": [
    "df_ocde[df_ocde['count_max']==0]['country'].drop_duplicates().count()"
   ]
  },
  {
   "cell_type": "code",
   "execution_count": 42,
   "metadata": {},
   "outputs": [
    {
     "data": {
      "text/plain": [
       "38"
      ]
     },
     "execution_count": 42,
     "metadata": {},
     "output_type": "execute_result"
    }
   ],
   "source": [
    "len(ocde)"
   ]
  }
 ],
 "metadata": {
  "kernelspec": {
   "display_name": ".venv",
   "language": "python",
   "name": "python3"
  },
  "language_info": {
   "codemirror_mode": {
    "name": "ipython",
    "version": 3
   },
   "file_extension": ".py",
   "mimetype": "text/x-python",
   "name": "python",
   "nbconvert_exporter": "python",
   "pygments_lexer": "ipython3",
   "version": "3.12.3"
  }
 },
 "nbformat": 4,
 "nbformat_minor": 2
}
