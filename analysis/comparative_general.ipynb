{
 "cells": [
  {
   "cell_type": "code",
   "execution_count": 1,
   "metadata": {},
   "outputs": [],
   "source": [
    "import pandas as pd \n",
    "import matplotlib.pyplot as plt\n",
    "import pycountry"
   ]
  },
  {
   "cell_type": "code",
   "execution_count": 2,
   "metadata": {},
   "outputs": [],
   "source": [
    "pd.options.display.float_format = '{:.6f}'.format  \n",
    "pd.options.display.precision = 6  \n",
    "\n",
    "\n",
    "def custom_format(x):\n",
    "    if isinstance(x, (int, float)) and x > 1_000_000:\n",
    "        return f\"{x / 1_000_000:.2f}M\"  \n",
    "    return f\"{x:.4f}\" if isinstance(x, float) else str(x)  \n",
    "\n"
   ]
  },
  {
   "cell_type": "code",
   "execution_count": 3,
   "metadata": {},
   "outputs": [],
   "source": [
    "fb = pd.read_parquet('../data/analyzed/fb/FB_K^4_X_general.parquet')\n",
    "ld = pd.read_parquet('../data/analyzed/ld/LD_K^4_X_general.parquet')\n",
    "tw = pd.read_parquet('../data/analyzed/tw/TW_K^4_X_general.parquet')"
   ]
  },
  {
   "cell_type": "code",
   "execution_count": 4,
   "metadata": {},
   "outputs": [],
   "source": [
    "fb = fb.reset_index(drop=True)\n",
    "ld = ld.reset_index(drop=True)\n",
    "tw = tw.reset_index(drop=True)"
   ]
  },
  {
   "cell_type": "code",
   "execution_count": 5,
   "metadata": {},
   "outputs": [],
   "source": [
    "platforms_merged = pd.concat([fb, ld, tw], axis=0,ignore_index=True)\n",
    "platforms_merged['platform'] = ['Meta','LinkedIn','Twitter']\n",
    "\n",
    "platforms_merged.rename(columns = {'K^4_90': r'$K^4_{90}$', 'K^4_95': r'$K^4_{95}$', 'K^4_99': r'$K^4_{99}$', \n",
    "                                   'RK^4_90': r'$RK^4_{90}$', 'RK^4_95': r'$RK^4_{95}$', 'RK^4_99': r'$RK^4_{99}$', \n",
    "                                    }, inplace=True)\n"
   ]
  },
  {
   "cell_type": "code",
   "execution_count": 6,
   "metadata": {},
   "outputs": [
    {
     "data": {
      "text/html": [
       "<div>\n",
       "<style scoped>\n",
       "    .dataframe tbody tr th:only-of-type {\n",
       "        vertical-align: middle;\n",
       "    }\n",
       "\n",
       "    .dataframe tbody tr th {\n",
       "        vertical-align: top;\n",
       "    }\n",
       "\n",
       "    .dataframe thead th {\n",
       "        text-align: right;\n",
       "    }\n",
       "</style>\n",
       "<table border=\"1\" class=\"dataframe\">\n",
       "  <thead>\n",
       "    <tr style=\"text-align: right;\">\n",
       "      <th></th>\n",
       "      <th>platform</th>\n",
       "      <th>$K^4_{90}$</th>\n",
       "      <th>$K^4_{95}$</th>\n",
       "      <th>$K^4_{99}$</th>\n",
       "      <th>$RK^4_{90}$</th>\n",
       "      <th>$RK^4_{95}$</th>\n",
       "      <th>$RK^4_{99}$</th>\n",
       "    </tr>\n",
       "  </thead>\n",
       "  <tbody>\n",
       "    <tr>\n",
       "      <th>0</th>\n",
       "      <td>Meta</td>\n",
       "      <td>15700</td>\n",
       "      <td>5500</td>\n",
       "      <td>989</td>\n",
       "      <td>0.000684</td>\n",
       "      <td>0.000239</td>\n",
       "      <td>0.000043</td>\n",
       "    </tr>\n",
       "    <tr>\n",
       "      <th>1</th>\n",
       "      <td>LinkedIn</td>\n",
       "      <td>38000</td>\n",
       "      <td>15000</td>\n",
       "      <td>2100</td>\n",
       "      <td>0.008009</td>\n",
       "      <td>0.003161</td>\n",
       "      <td>0.000443</td>\n",
       "    </tr>\n",
       "    <tr>\n",
       "      <th>2</th>\n",
       "      <td>Twitter</td>\n",
       "      <td>182195</td>\n",
       "      <td>74041</td>\n",
       "      <td>11722</td>\n",
       "      <td>0.029900</td>\n",
       "      <td>0.012151</td>\n",
       "      <td>0.001924</td>\n",
       "    </tr>\n",
       "  </tbody>\n",
       "</table>\n",
       "</div>"
      ],
      "text/plain": [
       "   platform  $K^4_{90}$  $K^4_{95}$  $K^4_{99}$  $RK^4_{90}$  $RK^4_{95}$  \\\n",
       "0      Meta       15700        5500         989     0.000684     0.000239   \n",
       "1  LinkedIn       38000       15000        2100     0.008009     0.003161   \n",
       "2   Twitter      182195       74041       11722     0.029900     0.012151   \n",
       "\n",
       "   $RK^4_{99}$  \n",
       "0     0.000043  \n",
       "1     0.000443  \n",
       "2     0.001924  "
      ]
     },
     "execution_count": 6,
     "metadata": {},
     "output_type": "execute_result"
    }
   ],
   "source": [
    "platforms_merged = platforms_merged[['platform',r'$K^4_{90}$', r'$K^4_{95}$', r'$K^4_{99}$',r'$RK^4_{90}$', r'$RK^4_{95}$', r'$RK^4_{99}$']]\n",
    "\n",
    "platforms_merged"
   ]
  },
  {
   "cell_type": "code",
   "execution_count": 7,
   "metadata": {},
   "outputs": [
    {
     "name": "stdout",
     "output_type": "stream",
     "text": [
      "\\begin{tabular}{lrrrrrr}\n",
      "\\toprule\n",
      "platform & $K^4_{90}$ & $K^4_{95}$ & $K^4_{99}$ & $RK^4_{90}$ & $RK^4_{95}$ & $RK^4_{99}$ \\\\\n",
      "\\midrule\n",
      "Meta & 15700 & 5500 & 989 & 6.84e-04 & 2.39e-04 & 4.31e-05 \\\\\n",
      "LinkedIn & 38000 & 15000 & 2100 & 8.01e-03 & 3.16e-03 & 4.43e-04 \\\\\n",
      "Twitter & 182195 & 74041 & 11722 & 2.99e-02 & 1.22e-02 & 1.92e-03 \\\\\n",
      "\\bottomrule\n",
      "\\end{tabular}\n",
      "\n"
     ]
    }
   ],
   "source": [
    "latex_table=platforms_merged.to_latex(index=False,float_format=\"%.2e\",escape=False)\n",
    "print(latex_table)"
   ]
  },
  {
   "cell_type": "code",
   "execution_count": 9,
   "metadata": {},
   "outputs": [
    {
     "data": {
      "text/html": [
       "<div>\n",
       "<style scoped>\n",
       "    .dataframe tbody tr th:only-of-type {\n",
       "        vertical-align: middle;\n",
       "    }\n",
       "\n",
       "    .dataframe tbody tr th {\n",
       "        vertical-align: top;\n",
       "    }\n",
       "\n",
       "    .dataframe thead th {\n",
       "        text-align: right;\n",
       "    }\n",
       "</style>\n",
       "<table border=\"1\" class=\"dataframe\">\n",
       "  <thead>\n",
       "    <tr style=\"text-align: right;\">\n",
       "      <th></th>\n",
       "      <th>platform</th>\n",
       "      <th>$K^4_{90}$</th>\n",
       "      <th>$K^4_{95}$</th>\n",
       "      <th>$K^4_{99}$</th>\n",
       "      <th>$RK^4_{90}$</th>\n",
       "      <th>$RK^4_{95}$</th>\n",
       "      <th>$RK^4_{99}$</th>\n",
       "    </tr>\n",
       "  </thead>\n",
       "  <tbody>\n",
       "    <tr>\n",
       "      <th>0</th>\n",
       "      <td>fb</td>\n",
       "      <td>15400</td>\n",
       "      <td>7400</td>\n",
       "      <td>994</td>\n",
       "      <td>0.002358</td>\n",
       "      <td>0.001133</td>\n",
       "      <td>0.000152</td>\n",
       "    </tr>\n",
       "    <tr>\n",
       "      <th>1</th>\n",
       "      <td>ld</td>\n",
       "      <td>72000</td>\n",
       "      <td>31000</td>\n",
       "      <td>7000</td>\n",
       "      <td>0.024538</td>\n",
       "      <td>0.010565</td>\n",
       "      <td>0.002386</td>\n",
       "    </tr>\n",
       "    <tr>\n",
       "      <th>2</th>\n",
       "      <td>tw</td>\n",
       "      <td>182195</td>\n",
       "      <td>74041</td>\n",
       "      <td>11722</td>\n",
       "      <td>0.048392</td>\n",
       "      <td>0.019666</td>\n",
       "      <td>0.003113</td>\n",
       "    </tr>\n",
       "  </tbody>\n",
       "</table>\n",
       "</div>"
      ],
      "text/plain": [
       "  platform  $K^4_{90}$  $K^4_{95}$  $K^4_{99}$  $RK^4_{90}$  $RK^4_{95}$  \\\n",
       "0       fb       15400        7400         994     0.002358     0.001133   \n",
       "1       ld       72000       31000        7000     0.024538     0.010565   \n",
       "2       tw      182195       74041       11722     0.048392     0.019666   \n",
       "\n",
       "   $RK^4_{99}$  \n",
       "0     0.000152  \n",
       "1     0.002386  \n",
       "2     0.003113  "
      ]
     },
     "execution_count": 9,
     "metadata": {},
     "output_type": "execute_result"
    }
   ],
   "source": [
    "fb = pd.read_parquet('../data/analyzed/fb/FB_K^4_X_general_ocde.parquet')\n",
    "ld = pd.read_parquet('../data/analyzed/ld/LD_K^4_X_general_ocde.parquet')\n",
    "tw = pd.read_parquet('../data/analyzed/tw/TW_K^4_X_general_ocde.parquet')\n",
    "\n",
    "fb = fb.reset_index(drop=True)\n",
    "ld = ld.reset_index(drop=True)\n",
    "tw = tw.reset_index(drop=True)\n",
    "\n",
    "platforms_merged = pd.concat([fb, ld, tw], axis=0,ignore_index=True)\n",
    "platforms_merged['platform'] = ['fb','ld','tw']\n",
    "\n",
    "platforms_merged.rename(columns = {'K^4_90': r'$K^4_{90}$', 'K^4_95': r'$K^4_{95}$', 'K^4_99': r'$K^4_{99}$', \n",
    "                                   'RK^4_90': r'$RK^4_{90}$', 'RK^4_95': r'$RK^4_{95}$', 'RK^4_99': r'$RK^4_{99}$', \n",
    "                                    }, inplace=True)\n",
    "\n",
    "platforms_merged = platforms_merged[['platform',r'$K^4_{90}$', r'$K^4_{95}$', r'$K^4_{99}$',r'$RK^4_{90}$', r'$RK^4_{95}$', r'$RK^4_{99}$']]\n",
    "\n",
    "platforms_merged"
   ]
  }
 ],
 "metadata": {
  "kernelspec": {
   "display_name": ".venv",
   "language": "python",
   "name": "python3"
  },
  "language_info": {
   "codemirror_mode": {
    "name": "ipython",
    "version": 3
   },
   "file_extension": ".py",
   "mimetype": "text/x-python",
   "name": "python",
   "nbconvert_exporter": "python",
   "pygments_lexer": "ipython3",
   "version": "3.12.3"
  }
 },
 "nbformat": 4,
 "nbformat_minor": 2
}
