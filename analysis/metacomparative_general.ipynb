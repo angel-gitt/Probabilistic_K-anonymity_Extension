{
 "cells": [
  {
   "cell_type": "code",
   "execution_count": 1,
   "metadata": {},
   "outputs": [],
   "source": [
    "import pandas as pd \n",
    "import matplotlib.pyplot as plt\n",
    "import re\n",
    "import pycountry\n",
    "import openpyxl"
   ]
  },
  {
   "cell_type": "code",
   "execution_count": 2,
   "metadata": {},
   "outputs": [],
   "source": [
    "mt = pd.read_parquet('../data/analyzed/fb/FB_K^4_X_general.parquet')\n",
    "mt_nr = pd.read_parquet('../data/analyzed/fb/FB_newrel_K^4_X_general.parquet')\n",
    "mt_nr_na = pd.read_parquet('../data/analyzed/fb/FB_newrel_newage_K^4_X_general.parquet')"
   ]
  },
  {
   "cell_type": "code",
   "execution_count": 3,
   "metadata": {},
   "outputs": [],
   "source": [
    "mt = mt.reset_index(drop=True)\n",
    "mt_nr = mt_nr.reset_index(drop=True)\n",
    "mt_nr_na = mt_nr_na.reset_index(drop=True)"
   ]
  },
  {
   "cell_type": "code",
   "execution_count": 4,
   "metadata": {},
   "outputs": [
    {
     "data": {
      "text/html": [
       "<div>\n",
       "<style scoped>\n",
       "    .dataframe tbody tr th:only-of-type {\n",
       "        vertical-align: middle;\n",
       "    }\n",
       "\n",
       "    .dataframe tbody tr th {\n",
       "        vertical-align: top;\n",
       "    }\n",
       "\n",
       "    .dataframe thead th {\n",
       "        text-align: right;\n",
       "    }\n",
       "</style>\n",
       "<table border=\"1\" class=\"dataframe\">\n",
       "  <thead>\n",
       "    <tr style=\"text-align: right;\">\n",
       "      <th></th>\n",
       "      <th>K^4_90</th>\n",
       "      <th>K^4_95</th>\n",
       "      <th>K^4_99</th>\n",
       "      <th>RK^4_90</th>\n",
       "      <th>RK^4_95</th>\n",
       "      <th>RK^4_99</th>\n",
       "    </tr>\n",
       "  </thead>\n",
       "  <tbody>\n",
       "    <tr>\n",
       "      <th>0</th>\n",
       "      <td>256500</td>\n",
       "      <td>117900</td>\n",
       "      <td>22000</td>\n",
       "      <td>0.00011</td>\n",
       "      <td>0.00005</td>\n",
       "      <td>0.000009</td>\n",
       "    </tr>\n",
       "  </tbody>\n",
       "</table>\n",
       "</div>"
      ],
      "text/plain": [
       "   K^4_90  K^4_95  K^4_99  RK^4_90  RK^4_95   RK^4_99\n",
       "0  256500  117900   22000  0.00011  0.00005  0.000009"
      ]
     },
     "execution_count": 4,
     "metadata": {},
     "output_type": "execute_result"
    }
   ],
   "source": [
    "mt_nr_na"
   ]
  },
  {
   "cell_type": "code",
   "execution_count": 5,
   "metadata": {},
   "outputs": [
    {
     "data": {
      "text/html": [
       "<div>\n",
       "<style scoped>\n",
       "    .dataframe tbody tr th:only-of-type {\n",
       "        vertical-align: middle;\n",
       "    }\n",
       "\n",
       "    .dataframe tbody tr th {\n",
       "        vertical-align: top;\n",
       "    }\n",
       "\n",
       "    .dataframe thead th {\n",
       "        text-align: right;\n",
       "    }\n",
       "</style>\n",
       "<table border=\"1\" class=\"dataframe\">\n",
       "  <thead>\n",
       "    <tr style=\"text-align: right;\">\n",
       "      <th></th>\n",
       "      <th>Meta</th>\n",
       "      <th>$K^4_{90}$</th>\n",
       "      <th>$K^4_{95}$</th>\n",
       "      <th>$K^4_{99}$</th>\n",
       "      <th>$RK^4_{90}$</th>\n",
       "      <th>$RK^4_{95}$</th>\n",
       "      <th>$RK^4_{99}$</th>\n",
       "    </tr>\n",
       "  </thead>\n",
       "  <tbody>\n",
       "    <tr>\n",
       "      <th>0</th>\n",
       "      <td>Base</td>\n",
       "      <td>15700</td>\n",
       "      <td>5500</td>\n",
       "      <td>989</td>\n",
       "      <td>0.000684</td>\n",
       "      <td>0.000239</td>\n",
       "      <td>4.306520e-05</td>\n",
       "    </tr>\n",
       "    <tr>\n",
       "      <th>1</th>\n",
       "      <td>New R.S.</td>\n",
       "      <td>21000</td>\n",
       "      <td>9300</td>\n",
       "      <td>998</td>\n",
       "      <td>0.000009</td>\n",
       "      <td>0.000004</td>\n",
       "      <td>4.233105e-07</td>\n",
       "    </tr>\n",
       "    <tr>\n",
       "      <th>2</th>\n",
       "      <td>Plus A.R.</td>\n",
       "      <td>256500</td>\n",
       "      <td>117900</td>\n",
       "      <td>22000</td>\n",
       "      <td>0.000110</td>\n",
       "      <td>0.000050</td>\n",
       "      <td>9.416071e-06</td>\n",
       "    </tr>\n",
       "  </tbody>\n",
       "</table>\n",
       "</div>"
      ],
      "text/plain": [
       "        Meta  $K^4_{90}$  $K^4_{95}$  $K^4_{99}$  $RK^4_{90}$  $RK^4_{95}$  \\\n",
       "0       Base       15700        5500         989     0.000684     0.000239   \n",
       "1   New R.S.       21000        9300         998     0.000009     0.000004   \n",
       "2  Plus A.R.      256500      117900       22000     0.000110     0.000050   \n",
       "\n",
       "    $RK^4_{99}$  \n",
       "0  4.306520e-05  \n",
       "1  4.233105e-07  \n",
       "2  9.416071e-06  "
      ]
     },
     "execution_count": 5,
     "metadata": {},
     "output_type": "execute_result"
    }
   ],
   "source": [
    "platforms_merged = pd.concat([mt, mt_nr, mt_nr_na], axis=0,ignore_index=True)\n",
    "platforms_merged['Meta'] = ['Base','New R.S.','Plus A.R.']\n",
    "\n",
    "platforms_merged.rename(columns = {'K^4_90': r'$K^4_{90}$', 'K^4_95': r'$K^4_{95}$', 'K^4_99': r'$K^4_{99}$', \n",
    "                                   'RK^4_90': r'$RK^4_{90}$', 'RK^4_95': r'$RK^4_{95}$', 'RK^4_99': r'$RK^4_{99}$', \n",
    "                                    }, inplace=True)\n",
    "\n",
    "platforms_merged = platforms_merged[['Meta',r'$K^4_{90}$', r'$K^4_{95}$', r'$K^4_{99}$',r'$RK^4_{90}$', r'$RK^4_{95}$', r'$RK^4_{99}$']]\n",
    "platforms_merged"
   ]
  },
  {
   "cell_type": "code",
   "execution_count": 6,
   "metadata": {},
   "outputs": [
    {
     "name": "stdout",
     "output_type": "stream",
     "text": [
      "\\begin{tabular}{lrrrrrr}\n",
      "\\toprule\n",
      "Meta & $K^4_{90}$ & $K^4_{95}$ & $K^4_{99}$ & $RK^4_{90}$ & $RK^4_{95}$ & $RK^4_{99}$ \\\\\n",
      "\\midrule\n",
      "Base & 15700 & 5500 & 989 & 6.8e-04 & 2.4e-04 & 4.3e-05 \\\\\n",
      "New R.S. & 21000 & 9300 & 998 & 8.9e-06 & 3.9e-06 & 4.2e-07 \\\\\n",
      "Plus A.R. & 256500 & 117900 & 22000 & 1.1e-04 & 5.0e-05 & 9.4e-06 \\\\\n",
      "\\bottomrule\n",
      "\\end{tabular}\n",
      "\n"
     ]
    }
   ],
   "source": [
    "latex_table=platforms_merged.to_latex(index=False,float_format=\"%.1e\",escape=False)\n",
    "print(latex_table)"
   ]
  },
  {
   "cell_type": "code",
   "execution_count": 7,
   "metadata": {},
   "outputs": [
    {
     "data": {
      "text/html": [
       "<div>\n",
       "<style scoped>\n",
       "    .dataframe tbody tr th:only-of-type {\n",
       "        vertical-align: middle;\n",
       "    }\n",
       "\n",
       "    .dataframe tbody tr th {\n",
       "        vertical-align: top;\n",
       "    }\n",
       "\n",
       "    .dataframe thead th {\n",
       "        text-align: right;\n",
       "    }\n",
       "</style>\n",
       "<table border=\"1\" class=\"dataframe\">\n",
       "  <thead>\n",
       "    <tr style=\"text-align: right;\">\n",
       "      <th></th>\n",
       "      <th>Meta</th>\n",
       "      <th>$K^4_{90}$</th>\n",
       "      <th>$K^4_{95}$</th>\n",
       "      <th>$K^4_{99}$</th>\n",
       "      <th>$RK^4_{90}$</th>\n",
       "      <th>$RK^4_{95}$</th>\n",
       "      <th>$RK^4_{99}$</th>\n",
       "    </tr>\n",
       "  </thead>\n",
       "  <tbody>\n",
       "    <tr>\n",
       "      <th>0</th>\n",
       "      <td>Base</td>\n",
       "      <td>15400</td>\n",
       "      <td>7400</td>\n",
       "      <td>994</td>\n",
       "      <td>0.002358</td>\n",
       "      <td>0.001133</td>\n",
       "      <td>0.000152</td>\n",
       "    </tr>\n",
       "    <tr>\n",
       "      <th>1</th>\n",
       "      <td>New R.S.</td>\n",
       "      <td>19200</td>\n",
       "      <td>10500</td>\n",
       "      <td>2600</td>\n",
       "      <td>0.000030</td>\n",
       "      <td>0.000016</td>\n",
       "      <td>0.000004</td>\n",
       "    </tr>\n",
       "    <tr>\n",
       "      <th>2</th>\n",
       "      <td>Plus A.R.</td>\n",
       "      <td>238300</td>\n",
       "      <td>124800</td>\n",
       "      <td>36800</td>\n",
       "      <td>0.000370</td>\n",
       "      <td>0.000194</td>\n",
       "      <td>0.000057</td>\n",
       "    </tr>\n",
       "  </tbody>\n",
       "</table>\n",
       "</div>"
      ],
      "text/plain": [
       "        Meta  $K^4_{90}$  $K^4_{95}$  $K^4_{99}$  $RK^4_{90}$  $RK^4_{95}$  \\\n",
       "0       Base       15400        7400         994     0.002358     0.001133   \n",
       "1   New R.S.       19200       10500        2600     0.000030     0.000016   \n",
       "2  Plus A.R.      238300      124800       36800     0.000370     0.000194   \n",
       "\n",
       "   $RK^4_{99}$  \n",
       "0     0.000152  \n",
       "1     0.000004  \n",
       "2     0.000057  "
      ]
     },
     "execution_count": 7,
     "metadata": {},
     "output_type": "execute_result"
    }
   ],
   "source": [
    "mt = pd.read_parquet('../data/analyzed/fb/FB_K^4_X_general_ocde.parquet')\n",
    "mt_nr = pd.read_parquet('../data/analyzed/fb/FB_newrel_K^4_X_general_ocde.parquet')\n",
    "mt_nr_na = pd.read_parquet('../data/analyzed/fb/FB_newrel_newage_K^4_X_general_ocde.parquet')\n",
    "\n",
    "mt = mt.reset_index(drop=True)\n",
    "mt_nr = mt_nr.reset_index(drop=True)\n",
    "mt_nr_na = mt_nr_na.reset_index(drop=True)\n",
    "\n",
    "platforms_merged = pd.concat([mt, mt_nr, mt_nr_na], axis=0,ignore_index=True)\n",
    "platforms_merged['Meta'] = ['Base','New R.S.','Plus A.R.']\n",
    "\n",
    "platforms_merged.rename(columns = {'K^4_90': r'$K^4_{90}$', 'K^4_95': r'$K^4_{95}$', 'K^4_99': r'$K^4_{99}$', \n",
    "                                   'RK^4_90': r'$RK^4_{90}$', 'RK^4_95': r'$RK^4_{95}$', 'RK^4_99': r'$RK^4_{99}$', \n",
    "                                    }, inplace=True)\n",
    "\n",
    "\n",
    "platforms_merged = platforms_merged[['Meta',r'$K^4_{90}$', r'$K^4_{95}$', r'$K^4_{99}$',r'$RK^4_{90}$', r'$RK^4_{95}$', r'$RK^4_{99}$']]\n",
    "\n",
    "platforms_merged"
   ]
  }
 ],
 "metadata": {
  "kernelspec": {
   "display_name": ".venv",
   "language": "python",
   "name": "python3"
  },
  "language_info": {
   "codemirror_mode": {
    "name": "ipython",
    "version": 3
   },
   "file_extension": ".py",
   "mimetype": "text/x-python",
   "name": "python",
   "nbconvert_exporter": "python",
   "pygments_lexer": "ipython3",
   "version": "3.12.3"
  }
 },
 "nbformat": 4,
 "nbformat_minor": 2
}
